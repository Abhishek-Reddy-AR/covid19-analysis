{
 "cells": [
  {
   "cell_type": "code",
   "execution_count": 2,
   "metadata": {},
   "outputs": [],
   "source": [
    "#IMPORTING REQUIRED MODULES\n",
    "\n",
    "import pandas as pd\n",
    "import warnings\n",
    "warnings.filterwarnings('ignore')\n",
    "import numpy as np\n",
    "from datetime import datetime"
   ]
  },
  {
   "cell_type": "code",
   "execution_count": 3,
   "metadata": {},
   "outputs": [],
   "source": [
    "#LOADED THE COVID CSV FILE AND PARSED THE DATE COLUMN AS DATE DATATYPE\n",
    "\n",
    "newdf=pd.read_csv(r'districts.csv',parse_dates = ['Date'])"
   ]
  },
  {
   "cell_type": "code",
   "execution_count": 4,
   "metadata": {
    "scrolled": true
   },
   "outputs": [],
   "source": [
    "#REMOVED THE ROWS THAT HAVE DISTRICTNAME THAT ARE NOT DISTRICT NAME LIKE Unknown,Other State,Other Region....\n",
    "\n",
    "df=newdf[newdf['District']!='Unknown']\n",
    "df=df[df['District']!='Other State']\n",
    "df=df[df['District']!='Other Region']\n",
    "df=df[df['District']!='Italians']\n",
    "df=df[df['District']!='Evacuees']\n",
    "df=df[df['District']!='BSF Camp']\n",
    "df=df[df['District']!='Airport Quarantine']\n",
    "df=df[df['District']!='Railway Quarantine']\n",
    "df=df[df['District']!='Foreign Evacuees']\n",
    "df=df[df['District']!='Capital Complex']\n",
    "df=df[df['District']!='Others']\n",
    "df=df[df['District']!='State Pool']\n",
    "\n",
    "#REMOVED UNNECESSARY COLUMNS(THAT ARE NO REQ FOR ASSIGNMENT)\n",
    "\n",
    "del df['Recovered']\n",
    "del df['Deceased']\n",
    "del df['Other']\n",
    "del df['Tested']\n",
    "\n",
    "#TOOK ONLY ROWS THAT HAVE DATE BEFORE AUG 14 2021(AS IT IS THE END DATE)\n",
    "\n",
    "df=df[df['Date']<'2021-08-15']\n"
   ]
  },
  {
   "cell_type": "code",
   "execution_count": 5,
   "metadata": {},
   "outputs": [],
   "source": [
    "#CREATED A LIST CONTAINING ELEMETS THAT ARE STATE NAME AND STATEID\n",
    "\n",
    "\n",
    "change=[['Andaman and Nicobar Islands', 'AN'],[ 'Andhra Pradesh',  'AP'],[ 'Arunachal Pradesh', 'AR'],[ 'Assam',  'AS'],[ 'Bihar',  'BR'],\n",
    " [ 'Chandigarh' ,'CH'],[ 'Chhattisgarh' , 'CT'], ['Dadra and Nagar Haveli and Daman and Diu',  'DN'],\n",
    "  ['Delhi',  'DL'], ['Goa',  'GA'], ['Gujarat',  'GJ'], ['Haryana',  'HR'],[ 'Himachal Pradesh',  'HP'],\n",
    "  ['Jammu and Kashmir',  'JK'],[ 'Jharkhand',  'JH'],[ 'Karnataka',  'KA'],[ 'Kerala',  'KL'],[ 'Lakshadweep', 'LD'],\n",
    " [ 'Madhya Pradesh',  'MP'],[ 'Maharashtra',  'MH'],['Manipur',  'MN'],[ 'Meghalaya','ML'],[ 'Mizoram',  'MZ'],\n",
    " ['Nagaland',  'NL'],[ 'Odisha',  'OR'],[ 'Puducherry',  'PY'],[ 'Punjab',  'PB'],['Rajasthan',  'RJ'],\n",
    " ['Sikkim',  'SK'],['Tamil Nadu', 'TN'],['Telangana',  'TG'],['Tripura','TR'],['Uttar Pradesh',  'UP'],\n",
    " ['Uttarakhand',  'UT'],['West Bengal',  'WB'],['Ladakh','LA']]\n",
    "\n",
    "\n",
    "#REPLACED STATE COLUMN OF DATAFRAME WITH STATEID INPLACE OF STATE NAME USING THE ABOVE CREATED LIST\n",
    "\n",
    "states=list(df['State'])\n",
    "\n",
    "for i in range(len(states)):\n",
    "    for j in range(len(change)):\n",
    "        if states[i]==change[j][0]:\n",
    "            states[i]=change[j][1]\n",
    "df['State']=states"
   ]
  },
  {
   "cell_type": "code",
   "execution_count": 6,
   "metadata": {},
   "outputs": [],
   "source": [
    "#CREATED A NEW COLUMN DISTRICTID BY JOINING STATEID AND DISTRICTNAME BY '_' IN THE DATAFRAME\n",
    "\n",
    "stateid=list(df['State'])\n",
    "distname=list(df['District'])\n",
    "\n",
    "distid=[]\n",
    "for i in range(len(stateid)):\n",
    "    distid.append(stateid[i]+'_'+distname[i])\n",
    "df['distid']=distid"
   ]
  },
  {
   "cell_type": "code",
   "execution_count": 7,
   "metadata": {},
   "outputs": [],
   "source": [
    "#DELETING UNWANTED COLUMNS\n",
    "\n",
    "del df['State']\n",
    "del df['District']"
   ]
  },
  {
   "cell_type": "code",
   "execution_count": 8,
   "metadata": {},
   "outputs": [],
   "source": [
    "#GROUPED THE DATAFRAME BASED ON DISTRICTID\n",
    "\n",
    "gdf=df.groupby('distid')"
   ]
  },
  {
   "cell_type": "code",
   "execution_count": 9,
   "metadata": {},
   "outputs": [],
   "source": [
    "ml=[]\n",
    "for i in gdf:\n",
    "    ml.append([i[0],i[1]])"
   ]
  },
  {
   "cell_type": "code",
   "execution_count": 10,
   "metadata": {},
   "outputs": [],
   "source": [
    "#FOR EACH  DISTRICTID DATAFRAME ADDED NEW ROWS WITH DATES FROM 2020-03-15 TO THE MIN DATE IN THAT DATAFRAME AND WITH CASES AS 0\n",
    "\n",
    "for i in ml:\n",
    "    startdate = np.datetime64('2020-03-15')\n",
    "    while(startdate < min(i[1]['Date'])):\n",
    "        i[1] =  i[1].append({'Date':startdate,'distid':i[0],'Confirmed':0},ignore_index=True)\n",
    "        startdate = startdate + np.timedelta64(1,'D')\n",
    "    i[1] = i[1].sort_values(by=['Date'], ascending=True)"
   ]
  },
  {
   "cell_type": "code",
   "execution_count": null,
   "metadata": {},
   "outputs": [],
   "source": [
    "#CREATED THE FINAL DATAFRAME\n",
    "\n",
    "weekfinaldf = pd.DataFrame(columns = ['districtid','weekid','cases'])\n",
    "\n",
    "#FOR EACH DISTRICTID DATAFRAME ,CALCULATED THE NO OF NEW  CASES IN THAT WEEK BY BELOW FORMULA AND APPEND THIS TO THE FINAL DATAFRAME\n",
    "#NO OF NEW CASES IN THAT WEEK=NO OF CASES IN THE LAST DAY OF THE THAT WEEK - NO OF  CASES IN THE LAST DAY OF THE PREVIOUS  WEEK   \n",
    "  \n",
    "for i in ml:\n",
    "    week = 1\n",
    "    tempdf = pd.DataFrame(columns = ['districtid','weekid','cases'])\n",
    "    startdate = np.datetime64(i[1][0:1]['Date'].to_string(index = False))\n",
    "    enddate = np.datetime64(i[1][-1:]['Date'].to_string(index = False))\n",
    "    datelist = list(i[1]['Date'])\n",
    "    confirmedlist = list(i[1]['Confirmed'])\n",
    "    while (startdate <= enddate-np.timedelta64(6,'D')):\n",
    "        date2 = startdate + np.timedelta64(6,'D')\n",
    "        date1 = startdate - np.timedelta64(1,'D')\n",
    "        ind_date1 = 0\n",
    "        ind_date2 = 0\n",
    "        for j in range(0,len(datelist)):\n",
    "            if datelist[j] == date1:\n",
    "                ind_date1 = j\n",
    "            if datelist[j] == date2:\n",
    "                ind_date2 = j\n",
    "        tempdf = tempdf.append(pd.DataFrame({\"districtid\": i[0],\"weekid\":week,\"cases\":confirmedlist[ind_date2]-confirmedlist[ind_date1]}, index=[0]))\n",
    "        week = week + 1\n",
    "        startdate = startdate + np.timedelta64(7,'D')\n",
    "    weekfinaldf = weekfinaldf.append(tempdf)"
   ]
  },
  {
   "cell_type": "code",
   "execution_count": null,
   "metadata": {},
   "outputs": [],
   "source": [
    "#STORED THE MONTH TO MONTH DATES IN A LIST\n",
    "\n",
    "from datetime import datetime\n",
    "mydate=list(ml[0][1]['Date'][0:1])\n",
    "next_month=[]\n",
    "for i in range(18):\n",
    "  if(mydate[0].month+i<=12):\n",
    "    next_month.append(datetime(mydate[0].year, mydate[0].month+i, 14))\n",
    "  else:\n",
    "    next_month.append(datetime(mydate[0].year+1, mydate[0].month+i-12, 14))\n"
   ]
  },
  {
   "cell_type": "code",
   "execution_count": null,
   "metadata": {},
   "outputs": [],
   "source": [
    "#CREATED FINAL DATFRAME FOR MONTHS\n",
    "\n",
    "monfinaldf = pd.DataFrame(columns = ['districtid','monthid','cases'])\n",
    "\n",
    "#FOR EACH DISTRICTID DATAFRAME ,CALCULATED THE NO OF  NEW CASES IN THAT MONTH BY BELOW FORMULA AND APPEND THIS TO THE FINAL DATAFRAME\n",
    "  \n",
    "#NO OF NEW CASES IN THAT MONTH=NO OF CASES IN THE LAST  DAY OF THAT MONTH - NO OF CASES IN THE LAST DAY OF THE PREVIOUS MONTH\n",
    "   \n",
    "\n",
    "for i in ml:\n",
    "    month = 1\n",
    "    tempdf = pd.DataFrame(columns = ['districtid','monthid','cases'])\n",
    "    datelist = list(i[1]['Date'])\n",
    "    confirmedlist = list(i[1]['Confirmed'])\n",
    "    mno=0\n",
    "    while (mno<len(next_month)-1):\n",
    "        date2 = next_month[mno+1]\n",
    "        date1 = next_month[mno]\n",
    "        ind_date1 = 0\n",
    "        ind_date2 = 0\n",
    "        for j in range(0,len(datelist)):\n",
    "            if datelist[j] == date1:\n",
    "                ind_date1 = j\n",
    "            if datelist[j] == date2:\n",
    "                ind_date2 = j\n",
    "        tempdf = tempdf.append(pd.DataFrame({\"districtid\": i[0],\"monthid\":month,\"cases\":confirmedlist[ind_date2]-confirmedlist[ind_date1]}, index=[0]))\n",
    "        month = month + 1\n",
    "        mno+=1\n",
    "    monfinaldf = monfinaldf.append(tempdf)\n",
    "\n",
    "    "
   ]
  },
  {
   "cell_type": "code",
   "execution_count": null,
   "metadata": {},
   "outputs": [],
   "source": [
    "#CREATED A FINALDF FOR OVERALL\n",
    "\n",
    "overallfinaldf = pd.DataFrame(columns = ['districtid','overallid','cases'])\n",
    "\n",
    "#FOR EACH DISTRICTID\n",
    "#GOT CONFIRMED CASES FROM THE LAST DATE IN THAT DISTRICT DATAFRAME AND APPEDEDIT TO THE FINAL DATAFRAME\n",
    "\n",
    "for i in ml:\n",
    "    overall = 1\n",
    "    datelist = list(i[1]['Date'])\n",
    "    confirmedlist = list(i[1]['Confirmed'])\n",
    "    overallfinaldf = overallfinaldf.append(pd.DataFrame({\"districtid\": i[0],\"overallid\":overall,\"cases\":confirmedlist[-1]}, index=[0]))\n",
    "    \n",
    "        "
   ]
  },
  {
   "cell_type": "code",
   "execution_count": null,
   "metadata": {},
   "outputs": [],
   "source": [
    "#DUE TO SOME ERROR IN DATA ,THE CUMULATIVE DATA ENTRY IS NOT FOLLOWED\n",
    "#SO SOME WEEKS HAVE REPORTED NEGATIVE NUMBER OF CONFIRMED CASES\n",
    "#FOUND THOSE ROWS THAT HAVE NEGATIVE CONFIRMED CASES AND REPLACED THEM BY ZERO\n",
    "\n",
    "wc=list(weekfinaldf['cases'])\n",
    "for i in range(len(wc)):\n",
    "    if wc[i]<0:\n",
    "        wc[i]=0\n",
    "mc=list(monfinaldf['cases'])\n",
    "for i in range(len(mc)):\n",
    "    if mc[i]<0:\n",
    "        mc[i]=0\n",
    "        \n",
    "weekfinaldf['cases']=wc\n",
    "monfinaldf['cases']=mc"
   ]
  },
  {
   "cell_type": "code",
   "execution_count": null,
   "metadata": {},
   "outputs": [],
   "source": [
    "#FINALLY CONVERTED THE ABOVE 3 DATAFRAMES INTO cases-week.csv ,cases-month.csv,cases-overall.csv\n",
    "\n",
    "weekfinaldf.to_csv('cases-week.csv',index=False)\n",
    "monfinaldf.to_csv('cases-month.csv',index=False)\n",
    "overallfinaldf.to_csv('cases-overall.csv',index=False)"
   ]
  },
  {
   "cell_type": "code",
   "execution_count": null,
   "metadata": {},
   "outputs": [],
   "source": []
  },
  {
   "cell_type": "code",
   "execution_count": null,
   "metadata": {},
   "outputs": [],
   "source": []
  },
  {
   "cell_type": "code",
   "execution_count": null,
   "metadata": {
    "scrolled": true
   },
   "outputs": [],
   "source": []
  },
  {
   "cell_type": "code",
   "execution_count": null,
   "metadata": {},
   "outputs": [],
   "source": []
  },
  {
   "cell_type": "code",
   "execution_count": null,
   "metadata": {},
   "outputs": [],
   "source": []
  },
  {
   "cell_type": "code",
   "execution_count": null,
   "metadata": {},
   "outputs": [],
   "source": []
  },
  {
   "cell_type": "code",
   "execution_count": null,
   "metadata": {},
   "outputs": [],
   "source": []
  },
  {
   "cell_type": "code",
   "execution_count": null,
   "metadata": {},
   "outputs": [],
   "source": []
  }
 ],
 "metadata": {
  "kernelspec": {
   "display_name": "Python 3",
   "language": "python",
   "name": "python3"
  },
  "language_info": {
   "codemirror_mode": {
    "name": "ipython",
    "version": 3
   },
   "file_extension": ".py",
   "mimetype": "text/x-python",
   "name": "python",
   "nbconvert_exporter": "python",
   "pygments_lexer": "ipython3",
   "version": "3.8.5"
  }
 },
 "nbformat": 4,
 "nbformat_minor": 4
}
