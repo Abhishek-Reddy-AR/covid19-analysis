{
 "cells": [
  {
   "cell_type": "code",
   "execution_count": 1,
   "metadata": {},
   "outputs": [],
   "source": [
    "#IMPORTING REQUIRED MODULES\n",
    "\n",
    "import pandas as pd\n",
    "import warnings\n",
    "warnings.filterwarnings('ignore')\n",
    "\n",
    "#READING THE VACCINATION DATA\n",
    "\n",
    "df=pd.read_csv(r'cowin_vaccine_data_districtwise.csv')"
   ]
  },
  {
   "cell_type": "code",
   "execution_count": 2,
   "metadata": {},
   "outputs": [],
   "source": [
    "#GETTING ONLY DATA COLUMNS THAT ARE NEEDED UNTIL THE END DATE MENTIONED\n",
    "\n",
    "df=df.iloc[:,0:2116]"
   ]
  },
  {
   "cell_type": "code",
   "execution_count": 3,
   "metadata": {},
   "outputs": [],
   "source": [
    "#INDEXES OF DISTRICTKEY ,FINAL DATE COVAXIN,FINAL DATE COVISHIELD\n",
    "\n",
    "need=[3,2114,2115]"
   ]
  },
  {
   "cell_type": "code",
   "execution_count": 4,
   "metadata": {},
   "outputs": [],
   "source": [
    "#GETTING ONLY THE ABOVE MENTIONED COLUMNS FROM VACCINE DATA\n",
    "\n",
    "dfreq=df.iloc[:,need]"
   ]
  },
  {
   "cell_type": "code",
   "execution_count": 5,
   "metadata": {},
   "outputs": [],
   "source": [
    "#THERE ARE SOME DISTRICT KEYS WHICH HAVE SAME VALUE IN VACCINE DATA SO WE \n",
    "#GROUPBY THOSE DISTRCIT KEYS AND CREATE THEM AS ONLY 1 ENTRY(BY ADDING ALL COLUMN VALUES CORRESPONDING TO THAT GROUP)\n",
    "\n",
    "dfreq=dfreq.groupby(['District_Key'],as_index=False).agg(func='sum')"
   ]
  },
  {
   "cell_type": "code",
   "execution_count": 6,
   "metadata": {},
   "outputs": [],
   "source": [
    "#RENAMING THE COLUMNS IN VACCINE DATAFRAME\n",
    "\n",
    "dfreq.columns=['districtid','covaxin','covishield']"
   ]
  },
  {
   "cell_type": "code",
   "execution_count": 7,
   "metadata": {},
   "outputs": [],
   "source": [
    "#REMOVING THE FIRST ROW AS IT IS NOT VALUES(METADATA)\n",
    "\n",
    "dfreq=dfreq.iloc[1:,:]"
   ]
  },
  {
   "cell_type": "code",
   "execution_count": 8,
   "metadata": {},
   "outputs": [],
   "source": [
    "#CREATING FINAL DATAFRAME\n",
    "\n",
    "finaldfreq=pd.DataFrame(columns=['districtid','vaccineratio'])"
   ]
  },
  {
   "cell_type": "code",
   "execution_count": 9,
   "metadata": {},
   "outputs": [],
   "source": [
    "#CONVERTING VALUES OF COVAXIN AND COVISHOELD WHICH ARE AS STRINGS TO FLOAT\n",
    "\n",
    "for i in range(len(dfreq)):\n",
    "    dfreq.iloc[i,1]=float(dfreq.iloc[i,1])\n",
    "    dfreq.iloc[i,2]=float(dfreq.iloc[i,2])"
   ]
  },
  {
   "cell_type": "code",
   "execution_count": 10,
   "metadata": {},
   "outputs": [],
   "source": [
    "#FOR EACH DISTRICTID ADDING THE DISTRICTID AND THE VACCINATION RATIO OF COVISHIELD TO COVAXIN INTO FINAL DATAFRAME\n",
    "\n",
    "for i in range(len(dfreq)):\n",
    "    \n",
    "    #IF COVAXIN VALUE IS ZERO THE MAKING THE VACCINE RATIO 0 (TO PREVENT ZERO BY DIVISION ERROR)\n",
    "    \n",
    "    if dfreq.iloc[i,1]==0:\n",
    "        finaldfreq=finaldfreq.append({'districtid':dfreq.iloc[i,0],'vaccineratio':0},ignore_index=True)\n",
    "    else:\n",
    "        finaldfreq=finaldfreq.append({'districtid':dfreq.iloc[i,0],'vaccineratio':(dfreq.iloc[i,2]/dfreq.iloc[i,1])},ignore_index=True)"
   ]
  },
  {
   "cell_type": "code",
   "execution_count": 11,
   "metadata": {},
   "outputs": [],
   "source": [
    "#SORTING THE ROWS BASED ON VACCINATION RATIO\n",
    "\n",
    "finaldfreq=finaldfreq.sort_values(by=['vaccineratio'])"
   ]
  },
  {
   "cell_type": "code",
   "execution_count": 12,
   "metadata": {},
   "outputs": [],
   "source": [
    "#WRITING THE FINAL DATAFRAME TO CSV FILE\n",
    "\n",
    "finaldfreq.to_csv('district-vaccine-type-ratio.csv',index=False)"
   ]
  },
  {
   "cell_type": "code",
   "execution_count": null,
   "metadata": {},
   "outputs": [],
   "source": []
  },
  {
   "cell_type": "code",
   "execution_count": 13,
   "metadata": {},
   "outputs": [],
   "source": [
    "#READING THE VACCINATION DATA\n",
    "\n",
    "df=pd.read_csv(r'cowin_vaccine_data_districtwise.csv')"
   ]
  },
  {
   "cell_type": "code",
   "execution_count": 14,
   "metadata": {},
   "outputs": [],
   "source": [
    "#GETTING ONLY DATA COLUMNS THAT ARE NEEDED UNTIL THE END DATE MENTIONED\n",
    "\n",
    "df=df.iloc[:,0:2116]\n",
    "\n",
    "#INDEXES OF STATEID ,FINAL DATE COVAXIN,FINAL DATE COVISHIELD\n",
    "\n",
    "need=[1,2114,2115]\n",
    "\n",
    "#GETTING ONLY THE ABOVE MENTIONED COLUMNS FROM VACCINE DATA\n",
    "\n",
    "dfreq=df.iloc[:,need]"
   ]
  },
  {
   "cell_type": "code",
   "execution_count": 15,
   "metadata": {},
   "outputs": [],
   "source": [
    "#REMOVING THE FIRST ROW AS IT IS NOT VALUES(METADATA)\n",
    "\n",
    "dfreq=dfreq.iloc[1:,:]"
   ]
  },
  {
   "cell_type": "code",
   "execution_count": 16,
   "metadata": {},
   "outputs": [],
   "source": [
    "#RENAMING THE COLUMNS IN VACCINE DATAFRAME\n",
    "\n",
    "dfreq.columns=['stateid','covaxin','covishield']"
   ]
  },
  {
   "cell_type": "code",
   "execution_count": 17,
   "metadata": {},
   "outputs": [],
   "source": [
    "#CONVERTING VALUES OF COVAXIN AND COVISHOELD WHICH ARE AS STRINGS TO FLOAT\n",
    "\n",
    "for i in range(len(dfreq)):\n",
    "    dfreq.iloc[i,1]=float(dfreq.iloc[i,1])\n",
    "    dfreq.iloc[i,2]=float(dfreq.iloc[i,2])"
   ]
  },
  {
   "cell_type": "code",
   "execution_count": 18,
   "metadata": {},
   "outputs": [],
   "source": [
    "#GROUPING VACCINE DATAFRAME BY STATEID\n",
    "\n",
    "gdf=dfreq.groupby(['stateid'])"
   ]
  },
  {
   "cell_type": "code",
   "execution_count": 19,
   "metadata": {},
   "outputs": [],
   "source": [
    "#CREATING FINAL REQ DATAFRAME\n",
    "\n",
    "finaldfreq=pd.DataFrame(columns=['stateid','covaxin','covishield'])"
   ]
  },
  {
   "cell_type": "code",
   "execution_count": 20,
   "metadata": {},
   "outputs": [],
   "source": [
    "#FOR EACH STATEID CALCULATING COVAXIN AND COVISHIELD IN THE STATE AND STORING IT IN FINAL REQ DATAFRAME\n",
    "\n",
    "for i,j in gdf:\n",
    "    finaldfreq=finaldfreq.append({'stateid':i,'covaxin':sum(j['covaxin']),'covishield':sum(j['covishield'])},ignore_index=True)"
   ]
  },
  {
   "cell_type": "code",
   "execution_count": 21,
   "metadata": {},
   "outputs": [],
   "source": [
    "#CREATING THE FINAL DATAFRAME\n",
    "\n",
    "finaldf=pd.DataFrame(columns=['stateid','vaccineratio'])\n",
    "\n",
    "#FOR EACH STATE CALCULATING THE RATIO OF COVISHIELD AND COVAXIN IN THAT STATE\n",
    "\n",
    "for i in range(len(finaldfreq)):\n",
    "    \n",
    "    #IF COVAXIN VALUE IS ZERO THE MAKING THE VACCINE RATIO 0 (TO PREVENT ZERO BY DIVISION ERROR)\n",
    "    \n",
    "    if finaldfreq.iloc[i,1]==0:\n",
    "        finaldf=finaldf.append({'stateid':finaldfreq.iloc[i,0],'vaccineratio':0},ignore_index=True)\n",
    "    else:\n",
    "        finaldf=finaldf.append({'stateid':dfreq.iloc[i,0],'vaccineratio':(finaldfreq.iloc[i,2]/finaldfreq.iloc[i,1])},ignore_index=True)"
   ]
  },
  {
   "cell_type": "code",
   "execution_count": 22,
   "metadata": {},
   "outputs": [],
   "source": [
    "#SORTING THE ROWS BASED ON VACCINATION RATIO\n",
    "\n",
    "finaldf=finaldf.sort_values(by=['vaccineratio'])"
   ]
  },
  {
   "cell_type": "code",
   "execution_count": 23,
   "metadata": {},
   "outputs": [],
   "source": [
    "#WRITING THE FINAL DATAFRAME TO CSV FILE\n",
    "\n",
    "finaldf.to_csv('state-vaccine-type-ratio.csv',index=False)"
   ]
  },
  {
   "cell_type": "code",
   "execution_count": 24,
   "metadata": {},
   "outputs": [],
   "source": [
    "#CREATING A OVERALL DATAFRAME\n",
    "\n",
    "overalldf=pd.DataFrame(columns=['overallid','covaxin','covishield'])"
   ]
  },
  {
   "cell_type": "code",
   "execution_count": 25,
   "metadata": {},
   "outputs": [],
   "source": [
    "#ADDING OVERALL ID , TOTAL COVAXIN AND TOTAL COVISHILED IN INDIA(BY SUMMING UP FROM EACH STATE) AND ADDING IT TO DATAFRAME\n",
    "\n",
    "overalldf=overalldf.append({'overallid':int(1),'covaxin':sum(finaldfreq['covaxin']),'covishield':sum(finaldfreq['covishield'])},ignore_index=True)"
   ]
  },
  {
   "cell_type": "code",
   "execution_count": 26,
   "metadata": {},
   "outputs": [],
   "source": [
    "#CALCULATING AND STORING THE OVERALL VACCINATION RATIO\n",
    "\n",
    "overalldf['vaccineratio']=overalldf['covishield']/overalldf['covaxin']"
   ]
  },
  {
   "cell_type": "code",
   "execution_count": 27,
   "metadata": {},
   "outputs": [],
   "source": [
    "#GETTING ONLY THE REQ COLUMNS\n",
    "\n",
    "overalldf=overalldf.iloc[:,[3]]"
   ]
  },
  {
   "cell_type": "code",
   "execution_count": 28,
   "metadata": {},
   "outputs": [],
   "source": [
    "#GETTING THE COLUMNS IN SPECIFIED ORDER FOR OUTPUT CSV FILE\n",
    "\n",
    "overalldf['overallid']=1\n",
    "a=list(overalldf['vaccineratio'])\n",
    "overalldf=overalldf.iloc[:,[1]]\n",
    "overalldf['vaccineratio']=a"
   ]
  },
  {
   "cell_type": "code",
   "execution_count": 29,
   "metadata": {},
   "outputs": [],
   "source": [
    "#WRITING THE OVERALL DATA FRAME TO CSV\n",
    "\n",
    "overalldf.to_csv('overall-vaccine-type-ratio.csv',index=False)"
   ]
  },
  {
   "cell_type": "code",
   "execution_count": null,
   "metadata": {},
   "outputs": [],
   "source": []
  }
 ],
 "metadata": {
  "kernelspec": {
   "display_name": "Python 3",
   "language": "python",
   "name": "python3"
  },
  "language_info": {
   "codemirror_mode": {
    "name": "ipython",
    "version": 3
   },
   "file_extension": ".py",
   "mimetype": "text/x-python",
   "name": "python",
   "nbconvert_exporter": "python",
   "pygments_lexer": "ipython3",
   "version": "3.8.10"
  }
 },
 "nbformat": 4,
 "nbformat_minor": 4
}
