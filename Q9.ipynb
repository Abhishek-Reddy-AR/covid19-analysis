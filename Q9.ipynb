{
 "cells": [
  {
   "cell_type": "code",
   "execution_count": 1,
   "metadata": {},
   "outputs": [],
   "source": [
    "#IMPORTING REQUIRED MODULES\n",
    "\n",
    "import warnings\n",
    "warnings.filterwarnings('ignore')\n",
    "import pandas as pd\n",
    "import math\n",
    "import numpy as np\n",
    "\n",
    "#READING THE VACCINATION DATA\n",
    "\n",
    "df=pd.read_csv(r'cowin_vaccine_data_districtwise.csv')"
   ]
  },
  {
   "cell_type": "code",
   "execution_count": 2,
   "metadata": {},
   "outputs": [],
   "source": [
    "#READING THE CENSUS DATA\n",
    "\n",
    "censustotal=pd.read_csv(r'DDW_PCA0000_2011_Indiastatedist.csv')\n",
    "\n",
    "#REMOVING THE UNWANTED COLUMNS FROM THE CENSUS DATAFRAME\n",
    "\n",
    "censustotal=censustotal.iloc[:,[6,7,8,10,11,12]]"
   ]
  },
  {
   "cell_type": "code",
   "execution_count": 3,
   "metadata": {},
   "outputs": [],
   "source": [
    "#CREATING DICTIONARY WITH STATE NAME AS KEY AND VALUES AS STATE ID\n",
    "\n",
    "statechanges={ 'JAMMU & KASHMIR':'JK','HIMACHAL PRADESH':'HP','PUNJAB':'PB','CHANDIGARH':'CH',\n",
    "              'UTTARAKHAND':'UT','HARYANA':'HR','NCT OF DELHI':'DL','RAJASTHAN':'RJ',\n",
    "              'UTTAR PRADESH':'UP','BIHAR':'BR','SIKKIM':'SK','ARUNACHAL PRADESH':'AR',\n",
    "              'NAGALAND':'NL','MANIPUR':'MN','MIZORAM':'MZ','TRIPURA':'TR','MEGHALAYA':'ML',\n",
    "              'ASSAM':'AS','WEST BENGAL':'WB','JHARKHAND':'JH','ODISHA':'OR','CHHATTISGARH':'CT',\n",
    "              'MADHYA PRADESH':'MP','GUJARAT':'GJ','DAMAN & DIU':'DN','DADRA & NAGAR HAVELI':'DN',\n",
    "              'MAHARASHTRA':'MH','ANDHRA PRADESH':'AP','KARNATAKA':'KA','GOA':'GA','LAKSHADWEEP':'LD',\n",
    "              'KERALA':'KL','TAMIL NADU':'TN','PUDUCHERRY':'PY','ANDAMAN & NICOBAR ISLANDS':'AN'}\n",
    "\n",
    "#CHANGING STATENAMES IN CENSUS DATAFRAME TO STATEID\n",
    "\n",
    "for i in range(len(censustotal)):\n",
    "    for j in statechanges:\n",
    "        if censustotal.iloc[i,1]==j:\n",
    "            censustotal.iloc[i,1]=statechanges[j]"
   ]
  },
  {
   "cell_type": "code",
   "execution_count": 4,
   "metadata": {},
   "outputs": [],
   "source": [
    "#GETTING ONLY ROWS THAT CONTAIN STATE VALUES AND TOTAL VALUES FROM CENSUS DATAFRAME\n",
    "\n",
    "censustotal=censustotal[censustotal['TRU']=='Total']\n",
    "census=censustotal[censustotal['Level']=='STATE']\n",
    "\n",
    "#AS THE CENSUS DATA IS OLD , 'DAMAN & DIU' AND 'DADRA & NAGAR HAVELI' HAVE COMBINED AND FORMED A SINGLE STATE NOW\n",
    "#SO FROM CENSUS DATA COMBINING THE STATES DATA THAT HAVE STATE ID 'DN' AND MAKING THEM AS A SINGLE STATE\n",
    "\n",
    "census=census[census['Name']!='DN']\n",
    "census=census.append({'Level':'STATE','Name':'DN','TRU':'Total','TOT_P':586956,'TOT_M':344061,'TOT_F':242895},ignore_index=True)"
   ]
  },
  {
   "cell_type": "code",
   "execution_count": 5,
   "metadata": {},
   "outputs": [],
   "source": [
    "#AS THE CENSUS DATA IS OLD , TELANGANA AND AP HAVE NOT YET DIVIDED AND ALSO LADAKH AND JAMMUKASHMIR ARE ALSO NOT DIVIDED\n",
    "\n",
    "#SO IN VACCINE DATA WE CHANGE THE STATEIDS OF TELANGANA TO AP AND LADAKH TO JK\n",
    "\n",
    "for i in range(len(df)):\n",
    "    if df.iloc[i,1]=='LA':\n",
    "        df.iloc[i,1]='JK'\n",
    "    if df.iloc[i,1]=='TG':\n",
    "        df.iloc[i,1]='AP'"
   ]
  },
  {
   "cell_type": "code",
   "execution_count": 6,
   "metadata": {},
   "outputs": [],
   "source": [
    "#GETTING ONLY THE REQUIRED COLUMNS FROM THE CENSUS DATA\n",
    "\n",
    "censusreq=census.iloc[:,[1,3]]\n",
    "\n",
    "#STORING THE INDEXS OF STATEID,LAST BUT 1 WEEK DOSE1 ,LAST WEEK DOSE1 (TO CALCULATE THE RATE OF VACCINATION IN LAST WEEK)\n",
    "\n",
    "need=[1,2039,2109]\n",
    "\n",
    "#GETTING ONLY THE ABOVE MENTIONED COLUMNS FROM THE VACCINE DATA\n",
    "\n",
    "dfreq=df.iloc[:,need]"
   ]
  },
  {
   "cell_type": "code",
   "execution_count": 7,
   "metadata": {},
   "outputs": [],
   "source": [
    "#REMOVING THE FIRST ROW AS IT IS NOT VALUES(METADATA)\n",
    "\n",
    "dfreq=dfreq.iloc[1:,:]\n",
    "\n",
    "#RENAMING THE COLUMNS IN VACCINE DATAFRAME\n",
    "\n",
    "dfreq.columns=['State_Code', '1dose1','2dose1']"
   ]
  },
  {
   "cell_type": "code",
   "execution_count": 8,
   "metadata": {},
   "outputs": [],
   "source": [
    "#CONVERTING VALUES OF DOSES WHICH ARE AS STRINGS TO FLOAT\n",
    "\n",
    "for i in range(len(dfreq)):\n",
    "    dfreq.iloc[i,1]=float(dfreq.iloc[i,1])\n",
    "    dfreq.iloc[i,2]=float(dfreq.iloc[i,2])"
   ]
  },
  {
   "cell_type": "code",
   "execution_count": 9,
   "metadata": {},
   "outputs": [],
   "source": [
    "#GROUPING VACCINE DATA BY STATEID\n",
    "\n",
    "gdf=dfreq.groupby(['State_Code'])"
   ]
  },
  {
   "cell_type": "code",
   "execution_count": 10,
   "metadata": {},
   "outputs": [],
   "source": [
    "#CREATING FINAL DATAFRAME\n",
    "\n",
    "finaldfreq=pd.DataFrame(columns=['stateid','1dose1','2dose1'])\n",
    "\n",
    "#ADDING STATE ID , SUM OF DOSE 1 IN THE LAST BUT 1 WEEK , SUM OF DOSE1 IN THE LAST WEEK OF THAT PARTICULAR STATE\n",
    "\n",
    "for i,j in gdf:\n",
    "   finaldfreq=finaldfreq.append({'stateid':i,'1dose1':sum(j['1dose1']),'2dose1':sum(j['2dose1'])},ignore_index=True)"
   ]
  },
  {
   "cell_type": "code",
   "execution_count": 11,
   "metadata": {},
   "outputs": [],
   "source": [
    "#MERGING THE STATEVACCINE DATAFRAME AND STATE CENSUS DATAFRAME BASED ON STATEIDS IN BOTH DATAFRAMES\n",
    "\n",
    "merged = pd.merge(left=censusreq, right=finaldfreq, left_on='Name', right_on='stateid')"
   ]
  },
  {
   "cell_type": "code",
   "execution_count": 12,
   "metadata": {},
   "outputs": [],
   "source": [
    "#CREATING RATE OF VACCINATION LIST AND STORING THE RATE OF VACCINE OF EACH STATE IN THE LIST\n",
    "\n",
    "rov=[]\n",
    "\n",
    "for i in range(len(merged)):\n",
    "    rov.append(math.ceil((float(merged.iloc[i,4])-float(merged.iloc[i,3]))/7))"
   ]
  },
  {
   "cell_type": "code",
   "execution_count": 13,
   "metadata": {},
   "outputs": [],
   "source": [
    "#CREATING POPULATION LEFT LIST AND STORING THE POPULATION LEFT TO BE VACCINATED OF EACH STATE IN THE LIST\n",
    "\n",
    "pl=[]\n",
    "for i in range(len(merged)):\n",
    "    pl.append(int(merged.iloc[i,1])-int(merged.iloc[i,4]))\n",
    "    \n",
    "#IF THE POPULATION LEFT TO BE VACCINATED IN A STATE IS NEGATIVE ,MAKE IT AS 0(THIS CAN HAPPEN BEACUSE THE CENSUS DATA IS OLD)\n",
    "\n",
    "for i in range(len(pl)):\n",
    "    if pl[i]<0:\n",
    "        pl[i]=0"
   ]
  },
  {
   "cell_type": "code",
   "execution_count": 14,
   "metadata": {},
   "outputs": [],
   "source": [
    "#ADDING THE ABOVE CREATED RATE OF VACCINATION AND POPULATION LEFT LIST AS COLUMNS INTO THE MERGED DATA FRAME\n",
    "\n",
    "merged['populationleft']=pl\n",
    "merged['rateofvaccination']=rov"
   ]
  },
  {
   "cell_type": "code",
   "execution_count": 15,
   "metadata": {},
   "outputs": [],
   "source": [
    "#CALCULATING THE NO OF DAYS LEFT FOR EACH STATE FOR THE POPULATION LEFT TO GET VACCINATED\n",
    "\n",
    "days=[]\n",
    "for i in range(len(merged)):\n",
    "    days.append(math.ceil(merged.iloc[i,-2]/merged.iloc[i,-1]))"
   ]
  },
  {
   "cell_type": "code",
   "execution_count": 16,
   "metadata": {},
   "outputs": [],
   "source": [
    "\n",
    "startdate = np.datetime64('2021-08-14')"
   ]
  },
  {
   "cell_type": "code",
   "execution_count": 17,
   "metadata": {},
   "outputs": [],
   "source": [
    "#CONVERTING THE DAYS NEEDED FOR EACH STATE TO GET ITS POPULATION LEFT VACCINATED INTO DATE TO COMPLETE VACCINATION\n",
    "\n",
    "dates=[]\n",
    "for i in range(len(days)):\n",
    "    dates.append(startdate + np.timedelta64(days[i],'D'))"
   ]
  },
  {
   "cell_type": "code",
   "execution_count": 18,
   "metadata": {},
   "outputs": [],
   "source": [
    "#ADDING THE DATES LIST AS COLUMN TO MERGED DATA FRAME\n",
    "\n",
    "merged['date']=dates"
   ]
  },
  {
   "cell_type": "code",
   "execution_count": 19,
   "metadata": {},
   "outputs": [],
   "source": [
    "#GETTING ONLY THE REQUIRED COLUMNS FROM THE MERGED DATAFRAME\n",
    "\n",
    "merged=merged.iloc[:,[2,5,6,7]]"
   ]
  },
  {
   "cell_type": "code",
   "execution_count": 20,
   "metadata": {},
   "outputs": [],
   "source": [
    "#SORTING THE DF BASED ON FIRST FIELD(STATEID)\n",
    "\n",
    "merged=merged.sort_values(by='stateid')"
   ]
  },
  {
   "cell_type": "code",
   "execution_count": 21,
   "metadata": {},
   "outputs": [],
   "source": [
    "#WRITING THE MERGED DATAFRAME INTO CSV FILE\n",
    "\n",
    "merged.to_csv('complete-vaccination.csv',index=False)"
   ]
  },
  {
   "cell_type": "code",
   "execution_count": null,
   "metadata": {},
   "outputs": [],
   "source": []
  }
 ],
 "metadata": {
  "kernelspec": {
   "display_name": "Python 3",
   "language": "python",
   "name": "python3"
  },
  "language_info": {
   "codemirror_mode": {
    "name": "ipython",
    "version": 3
   },
   "file_extension": ".py",
   "mimetype": "text/x-python",
   "name": "python",
   "nbconvert_exporter": "python",
   "pygments_lexer": "ipython3",
   "version": "3.8.5"
  }
 },
 "nbformat": 4,
 "nbformat_minor": 4
}
