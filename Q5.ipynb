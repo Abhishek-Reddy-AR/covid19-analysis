{
 "cells": [
  {
   "cell_type": "code",
   "execution_count": 1,
   "metadata": {},
   "outputs": [],
   "source": [
    "#IMPORTING REQUIRED MODULES\n",
    "\n",
    "import pandas as pd\n",
    "import warnings\n",
    "warnings.filterwarnings('ignore')"
   ]
  },
  {
   "cell_type": "code",
   "execution_count": 2,
   "metadata": {},
   "outputs": [],
   "source": [
    "#READING THE VACCINATION DATA\n",
    "\n",
    "idf=pd.read_csv(r'cowin_vaccine_data_districtwise.csv')"
   ]
  },
  {
   "cell_type": "code",
   "execution_count": 3,
   "metadata": {},
   "outputs": [],
   "source": [
    "#GETTING ONLY COLUMNS UNTIL THE END DATE MENTIONED FOR ANALYSIS\n",
    "\n",
    "idf=idf.iloc[:,0:2116]"
   ]
  },
  {
   "cell_type": "code",
   "execution_count": 4,
   "metadata": {},
   "outputs": [],
   "source": [
    "#CALCULATING THE INDICES OF DOSE 1 AND DOSE 2 FOR EACH WEEK END DAY\n",
    "\n",
    "need=[3]\n",
    "i=9\n",
    "while(i<=2116):\n",
    "    need.append(i)\n",
    "    need.append(i+1)\n",
    "    i+=10\n",
    "    \n",
    "#GETTING ABOVE REQ COLUMNS\n",
    "\n",
    "df=idf.iloc[:,need]"
   ]
  },
  {
   "cell_type": "code",
   "execution_count": 5,
   "metadata": {},
   "outputs": [],
   "source": [
    "#THERE ARE SOME DISTRICT KEYS WHICH HAVE SAME VALUE IN VACCINE DATA SO WE \n",
    "#GROUPBY THOSE DISTRCIT KEYS AND CREATE THEM AS ONLY 1 ENTRY(BY ADDING ALL COLUMN VALUES CORRESPONDING TO THAT GROUP)\n",
    "\n",
    "df=df.groupby(['District_Key'],as_index=False).agg(func='sum')"
   ]
  },
  {
   "cell_type": "code",
   "execution_count": 6,
   "metadata": {},
   "outputs": [],
   "source": [
    "#STORING THE DISTRICTID IN A SEPERATE LIST\n",
    "\n",
    "distlist=list(df['District_Key'])"
   ]
  },
  {
   "cell_type": "code",
   "execution_count": null,
   "metadata": {},
   "outputs": [],
   "source": [
    "#CREATING A FINAL DATA FRAME\n",
    "\n",
    "finaldf=pd.DataFrame(columns=['districtid','weekid','dose1','dose2'])\n",
    "\n",
    "#FOR EACH DISTRICT ID\n",
    "\n",
    "for j in range(len(df)):\n",
    "    if j!=0:\n",
    "        \n",
    "        #GETTING ONLY THE ROW OF THAT DISTRICTID\n",
    "        \n",
    "        onlydist=df.iloc[j:j+1,]\n",
    "        \n",
    "        #GETTING THAT DISTRICTID\n",
    "        \n",
    "        distid=distlist[j]\n",
    "        reqlist=[]\n",
    "        i=0\n",
    "        count=1\n",
    "        \n",
    "        #GETTING ONLY THE DOSE 1 AND DOSE 2 VALUES OF EACH WEEK END AND APPENDING IT INTO A LIST\n",
    "        \n",
    "        while(i<(len(onlydist.columns))):\n",
    "            reqlist.append([count,(onlydist.iloc[:,[i+1,i+2]]).values[0][0],(onlydist.iloc[:,[i+1,i+2]]).values[0][1]])\n",
    "            i+=14\n",
    "            count+=1\n",
    "            \n",
    "        #CREATING FINAL LIST \n",
    "        \n",
    "        final_list=[]\n",
    "        \n",
    "        #CALCULATING THE NO OF NEW CASES GENERATED IN THAT WEEK BY SUBTRACTING THAT WEEK ENDS DOSE 1 FROM PREVIOUS WEEKENDS\n",
    "        #DOSE1 AND SIMILARLY FOR DOSE2\n",
    "        \n",
    "        for i in range(len(reqlist)-1):\n",
    "           final_list.append([distid,reqlist[i][0],float(reqlist[i+1][1])-float(reqlist[i][1]),float(reqlist[i+1][2])-float(reqlist[i][2])])\n",
    "        \n",
    "        #ADDING THE FINAL LIST VALUES INTO THE FINAL DATA FRAME\n",
    "        \n",
    "        for i in range(len(final_list)):\n",
    "           finaldf=finaldf.append(pd.DataFrame({'districtid':final_list[i][0],'weekid':final_list[i][1],'dose1':final_list[i][2],'dose2':final_list[i][3]},index=[0]))"
   ]
  },
  {
   "cell_type": "code",
   "execution_count": null,
   "metadata": {},
   "outputs": [],
   "source": [
    "#FILLING THE NA VALUES WITH MODE OF THAT COLUMN\n",
    "\n",
    "finaldf['dose1'].fillna(finaldf['dose1'].mode()[0],inplace=True)\n",
    "finaldf['dose2'].fillna(finaldf['dose2'].mode()[0],inplace=True)"
   ]
  },
  {
   "cell_type": "code",
   "execution_count": null,
   "metadata": {},
   "outputs": [],
   "source": [
    "#SORTING THE FINAL DF BASED ON DISTRICT ID AND WEEK ID\n",
    "\n",
    "finaldf=finaldf.sort_values(by=['districtid','weekid'])"
   ]
  },
  {
   "cell_type": "code",
   "execution_count": null,
   "metadata": {},
   "outputs": [],
   "source": [
    "#SINCE THE DATA IS CUMULATIVE , IN SOME ROWS OF DATA DID NOT FOLLOW THE CUMULATIVE RULE\n",
    "#SO WE GET SOME NEGATIVE FOR SOME WEEKS IN SOME DISTRICTS\n",
    "#AS THE NEGATIVE VALUES ARE NOT MEANINGFUL\n",
    "#WE MAKE THESE VALUES NEGATIVE VALUES ZEROS\n",
    "\n",
    "\n",
    "#DOING THE ABOVE MENTIONED MODIFICATION FOR DOSE1 VALUES\n",
    "\n",
    "l=list(finaldf['dose1']<0)\n",
    "cas=list(finaldf['dose1'])\n",
    "for i in range(len(l)):\n",
    "    if l[i]:\n",
    "        cas[i]=0\n",
    "finaldf['dose1']=cas"
   ]
  },
  {
   "cell_type": "code",
   "execution_count": null,
   "metadata": {},
   "outputs": [],
   "source": [
    "#DOING THE ABOVE MENTIONED MODIFICATION FOR DOSE2 VALUES\n",
    "\n",
    "l=list(finaldf['dose2']<0)\n",
    "cas=list(finaldf['dose2'])\n",
    "for i in range(len(l)):\n",
    "    if l[i]:\n",
    "        cas[i]=0\n",
    "finaldf['dose2']=cas"
   ]
  },
  {
   "cell_type": "code",
   "execution_count": null,
   "metadata": {},
   "outputs": [],
   "source": [
    "#WRITING THE FINAL DATA FRAME INTO CSV FILE\n",
    "\n",
    "finaldf.to_csv('district-vaccinated-count-week.csv',index=False)"
   ]
  },
  {
   "cell_type": "code",
   "execution_count": null,
   "metadata": {},
   "outputs": [],
   "source": [
    "#GETTING DISTRICT IDS FROM FINAL DATAFRAME\n",
    "\n",
    "distlist=list(finaldf['districtid'])\n",
    "\n",
    "#GETTING ONLY THE STATE ID OF EACH DISTRICT FROM DISTRICT ID AND ADDING IT TO THE FINAL DATAFRAME AS STATEID\n",
    "\n",
    "for i in range(len(distlist)):\n",
    "    distlist[i]=distlist[i].split('_')[0]\n",
    "finaldf['stateid']=distlist"
   ]
  },
  {
   "cell_type": "code",
   "execution_count": null,
   "metadata": {},
   "outputs": [],
   "source": [
    "#GROUPING THE FINAL DATAFRAME BASED ON STATEID AND WEEKID\n",
    "\n",
    "finalgdf=finaldf.groupby(['stateid','weekid'])"
   ]
  },
  {
   "cell_type": "code",
   "execution_count": null,
   "metadata": {},
   "outputs": [],
   "source": [
    "#CREATING A NEW FINAL DATAFRAME\n",
    "\n",
    "finaldf=pd.DataFrame(columns=['stateid','weekid','dose1','dose2'])\n",
    "\n",
    "#FOR EACH STATEID AND EACH WEEKID \n",
    "#WE CALCULATE THE SUM OF DOSE1 IN THAT STATE FOR THAT WEEK AND STORE IT IN FINAL DATAFRAME\n",
    "#SIMILARLY FOR DOSE2\n",
    "\n",
    "for i,j in finalgdf:\n",
    "    finaldf=finaldf.append(pd.DataFrame({'stateid':i[0],'weekid':i[1],'dose1':sum(j['dose1']),'dose2':sum(j['dose2'])},index=[0]))"
   ]
  },
  {
   "cell_type": "code",
   "execution_count": null,
   "metadata": {},
   "outputs": [],
   "source": [
    "#SORTING THE FINAL DATAFRAME BASED ON STATEID AND WEEKID\n",
    "\n",
    "finaldf=finaldf.sort_values(by=['stateid','weekid'])"
   ]
  },
  {
   "cell_type": "code",
   "execution_count": null,
   "metadata": {},
   "outputs": [],
   "source": [
    "#WRITING THE FINAL DATA FRAME TO CSV FILE\n",
    "\n",
    "finaldf.to_csv('state-vaccinated-count-week.csv',index=False)"
   ]
  },
  {
   "cell_type": "code",
   "execution_count": null,
   "metadata": {},
   "outputs": [],
   "source": [
    "#STORING THE INDICIES OF EACH MONTH STARTING COLUMNS OF DOSE 1\n",
    "\n",
    "need=[1,3,299,300,579,580,889,890,1189,1190,1499,1500,1799,1800,2109,2110]\n",
    "\n",
    "#GETTING ONLY ABOVE  COLUMNS\n",
    "        \n",
    "df=idf.iloc[:,need]"
   ]
  },
  {
   "cell_type": "code",
   "execution_count": null,
   "metadata": {},
   "outputs": [],
   "source": [
    "#THERE ARE SOME DISTRICT KEYS WHICH HAVE SAME VALUE IN VACCINE DATA SO WE \n",
    "#GROUPBY THOSE DISTRCIT KEYS AND CREATE THEM AS ONLY 1 ENTRY(BY ADDING ALL COLUMN VALUES CORRESPONDING TO THAT GROUP)\n",
    "\n",
    "df=df.groupby(['District_Key'],as_index=False).agg(func='sum')"
   ]
  },
  {
   "cell_type": "code",
   "execution_count": null,
   "metadata": {},
   "outputs": [],
   "source": [
    "#STORING THE DISTRICTID IN A SEPERATE LIST\n",
    "\n",
    "distlist=list(df['District_Key'])"
   ]
  },
  {
   "cell_type": "code",
   "execution_count": null,
   "metadata": {},
   "outputs": [],
   "source": [
    "#CREATING A FINAL DATA FRAME\n",
    "\n",
    "finaldf=pd.DataFrame(columns=['districtid','monthid','dose1','dose2'])\n",
    "\n",
    "#FOR EACH DISTRICT ID\n",
    "\n",
    "for j in range(len(df)):\n",
    "    if j!=0:\n",
    "        \n",
    "        #GETTING ONLY THE ROW OF THAT DISTRICTID\n",
    "            \n",
    "        onlydist=df.iloc[j:j+1,]\n",
    "        \n",
    "        #GETTING THAT DISTRICTID\n",
    "        \n",
    "        distid=distlist[j]\n",
    "        reqlist=[]\n",
    "        i=3\n",
    "        count=1\n",
    "        \n",
    "        #GETTING NO OF  DOSE 1 AND DOSE 2 VALUES DONE OF EACH MONTH  AND APPENDING IT INTO A LIST\n",
    "        \n",
    "        while(i<(len(onlydist.columns))):\n",
    "            if count==1:\n",
    "              reqlist.append([count,int((onlydist.iloc[:,[i-1,i]]).values[0][0]),int((onlydist.iloc[:,[i-1,i]]).values[0][1])])\n",
    "            else:\n",
    "                reqlist.append([count,int((onlydist.iloc[:,[i-1,i]]).values[0][0])-int((onlydist.iloc[:,[i-3,i-2]]).values[0][0]),int((onlydist.iloc[:,[i-1,i]]).values[0][1])-int((onlydist.iloc[:,[i-3,i-2]]).values[0][1])])\n",
    "            i+=2\n",
    "            count+=1\n",
    "        \n",
    "        #ADDING THE REQ LIST VALUES INTO THE FINAL DATA FRAME\n",
    "        \n",
    "        for i in range(len(reqlist)):\n",
    "           finaldf=finaldf.append(pd.DataFrame({'districtid':distid,'monthid':reqlist[i][0],'dose1':reqlist[i][1],'dose2':reqlist[i][2]},index=[0]))"
   ]
  },
  {
   "cell_type": "code",
   "execution_count": null,
   "metadata": {},
   "outputs": [],
   "source": [
    "#SORTING THE FINAL DF BASED ON DISTRICT ID AND WEEK ID\n",
    "\n",
    "finaldf=finaldf.sort_values(by=['districtid','monthid'])"
   ]
  },
  {
   "cell_type": "code",
   "execution_count": null,
   "metadata": {},
   "outputs": [],
   "source": [
    "#SINCE THE DATA IS CUMULATIVE IN SOME ROWS OF DATA DID NOT FOLLOW THE CUMULATIVE RULE\n",
    "#SO WE GET SOME NEGATIVE FOR SOME MONTHS IN SOME DISTRICTS\n",
    "#AS THE NEGATIVE VALUES ARE NOT MEANINGFUL\n",
    "#WE MAKE THESE VALUES NEGATIVE VALUES ZEROS\n",
    "\n",
    "#DOING THE ABOVE MENTIONED MODIFICATION FOR DOSE2 VALUES\n",
    "\n",
    "l=list(finaldf['dose2']<0)\n",
    "cas=list(finaldf['dose2'])\n",
    "for i in range(len(l)):\n",
    "    if l[i]:\n",
    "        cas[i]=0\n",
    "finaldf['dose2']=cas"
   ]
  },
  {
   "cell_type": "code",
   "execution_count": null,
   "metadata": {},
   "outputs": [],
   "source": [
    "#DOING THE ABOVE MENTIONED MODIFICATION FOR DOSE1 VALUES\n",
    "\n",
    "l=list(finaldf['dose1']<0)\n",
    "cas=list(finaldf['dose1'])\n",
    "for i in range(len(l)):\n",
    "    if l[i]:\n",
    "        cas[i]=0\n",
    "finaldf['dose1']=cas"
   ]
  },
  {
   "cell_type": "code",
   "execution_count": null,
   "metadata": {},
   "outputs": [],
   "source": [
    "#WRITING THE FINAL DATA FRAME TO CSV FILE\n",
    "\n",
    "finaldf.to_csv('district-vaccinated-count-month.csv',index=False)"
   ]
  },
  {
   "cell_type": "code",
   "execution_count": null,
   "metadata": {},
   "outputs": [],
   "source": [
    "#GETTING DISTRICT IDS FROM FINAL DATAFRAME\n",
    "\n",
    "distlist=list(finaldf['districtid'])\n",
    "\n",
    "#GETTING ONLY THE STATE ID OF EACH DISTRICT FROM DISTRICT ID AND ADDING IT TO THE FINAL DATAFRAME AS STATEID\n",
    "\n",
    "for i in range(len(distlist)):\n",
    "    distlist[i]=distlist[i].split('_')[0]\n",
    "finaldf['stateid']=distlist"
   ]
  },
  {
   "cell_type": "code",
   "execution_count": null,
   "metadata": {},
   "outputs": [],
   "source": [
    "#GROUPING THE FINAL DATAFRAME BASED ON STATEID AND MONTHID\n",
    "\n",
    "finalgdf=finaldf.groupby(['stateid','monthid'])"
   ]
  },
  {
   "cell_type": "code",
   "execution_count": null,
   "metadata": {},
   "outputs": [],
   "source": [
    "#CREATING A NEW FINAL DATAFRAME\n",
    "\n",
    "finaldf=pd.DataFrame(columns=['stateid','monthid','dose1','dose2'])\n",
    "\n",
    "#FOR EACH STATEID AND EACH MONTHID \n",
    "#WE CALCULATE THE SUM OF DOSE1 IN THAT STATE FOR THAT MONTH AND STORE IT IN FINAL DATAFRAME\n",
    "#SIMILARLY FOR DOSE2\n",
    "\n",
    "for i,j in finalgdf:\n",
    "    finaldf=finaldf.append(pd.DataFrame({'stateid':i[0],'monthid':i[1],'dose1':sum(j['dose1']),'dose2':sum(j['dose2'])},index=[0]))"
   ]
  },
  {
   "cell_type": "code",
   "execution_count": null,
   "metadata": {},
   "outputs": [],
   "source": [
    "#WRITING THE FINAL DATA FRAME TO CSV FILE\n",
    "\n",
    "finaldf.to_csv('state-vaccinated-count-month.csv',index=False)"
   ]
  },
  {
   "cell_type": "code",
   "execution_count": null,
   "metadata": {},
   "outputs": [],
   "source": [
    "#STORING THE DISTRICTID IN A SEPERATE LIST\n",
    "\n",
    "distlist=list(df['District_Key'])"
   ]
  },
  {
   "cell_type": "code",
   "execution_count": null,
   "metadata": {},
   "outputs": [],
   "source": [
    "#STORING THE INDICIES OF DISTRICTID ,END DATE DOSE 1, END DATE DOSE 2 COLUMNS\n",
    "\n",
    "need=[3,2109,2110]\n",
    "\n",
    "df=idf.iloc[:,need]\n",
    "\n",
    "#THERE ARE SOME DISTRICT KEYS WHICH HAVE SAME VALUE IN VACCINE DATA SO WE \n",
    "#GROUPBY THOSE DISTRCIT KEYS AND CREATE THEM AS ONLY 1 ENTRY(BY ADDING ALL COLUMN VALUES CORRESPONDING TO THAT GROUP)\n",
    "\n",
    "df=df.groupby(['District_Key'],as_index=False).agg(func='sum')"
   ]
  },
  {
   "cell_type": "code",
   "execution_count": null,
   "metadata": {},
   "outputs": [],
   "source": [
    "#CREATING A FINAL DATA FRAME\n",
    "\n",
    "finaldf=pd.DataFrame(columns=['districtid','overallid','dose1','dose2'])\n",
    "\n",
    "#FOR EACH DISTRICT ID\n",
    "\n",
    "for j in range(len(df)):\n",
    "    if j!=0:\n",
    "        \n",
    "        #GETTING ONLY THE ROW OF THAT DISTRICTID\n",
    "        \n",
    "        onlydist=df.iloc[j:j+1,]\n",
    "        \n",
    "        #GETTING THAT DISTRICTID\n",
    "        \n",
    "        distid=distlist[j]\n",
    "        \n",
    "        #ADDING THE DISTRICTID ,OVERALL DOSE 1 AND OVERALL DOSE 2 DONE IN THAT DISTRICT TO FINAL DATA FRAME\n",
    "        \n",
    "        finaldf=finaldf.append(pd.DataFrame({'districtid':distid,'overallid':1,'dose1':int((onlydist.iloc[:,[1,2]]).values[0][0]),'dose2':int((onlydist.iloc[:,[1,2]]).values[0][1])},index=[0]))"
   ]
  },
  {
   "cell_type": "code",
   "execution_count": null,
   "metadata": {},
   "outputs": [],
   "source": [
    "#SORTING THE FINAL DF BASED ON DISTRICT ID \n",
    "\n",
    "finaldf=finaldf.sort_values(by=['districtid'])"
   ]
  },
  {
   "cell_type": "code",
   "execution_count": null,
   "metadata": {},
   "outputs": [],
   "source": [
    "#WRITING THE FINAL DATA FRAME TO CSV FILE\n",
    "\n",
    "finaldf.to_csv('district-vaccinated-count-overall.csv',index=False)"
   ]
  },
  {
   "cell_type": "code",
   "execution_count": null,
   "metadata": {},
   "outputs": [],
   "source": [
    "#GETTING DISTRICT IDS FROM FINAL DATAFRAME\n",
    "\n",
    "distlist=list(finaldf['districtid'])\n",
    "\n",
    "#GETTING ONLY THE STATE ID OF EACH DISTRICT FROM DISTRICT ID AND ADDING IT TO THE FINAL DATAFRAME AS STATEID\n",
    "\n",
    "for i in range(len(distlist)):\n",
    "    distlist[i]=distlist[i].split('_')[0]\n",
    "finaldf['stateid']=distlist"
   ]
  },
  {
   "cell_type": "code",
   "execution_count": null,
   "metadata": {},
   "outputs": [],
   "source": [
    "#GROUPING THE FINAL DATAFRAME BASED ON STATEID \n",
    "\n",
    "finalgdf=finaldf.groupby(['stateid'])"
   ]
  },
  {
   "cell_type": "code",
   "execution_count": null,
   "metadata": {},
   "outputs": [],
   "source": [
    "#CREATING A FINAL DATA FRAME\n",
    "\n",
    "finaldf=pd.DataFrame(columns=['stateid','overallid','dose1','dose2'])\n",
    "\n",
    "#FOR EACH STATE ID\n",
    "\n",
    "for i,j in finalgdf:\n",
    "    \n",
    "    #APPEND THE STATEID , NUMBER OF DOSE1,NO OF DOSE 2 OVERALL IN THAT STATE TO FINAL DATA FRAME\n",
    "    \n",
    "    finaldf=finaldf.append(pd.DataFrame({'stateid':i,'overallid':1,'dose1':sum(j['dose1']),'dose2':sum(j['dose2'])},index=[0]))"
   ]
  },
  {
   "cell_type": "code",
   "execution_count": null,
   "metadata": {},
   "outputs": [],
   "source": [
    "#WRITING THE FINAL DATA FRAME TO CSV FILE\n",
    "\n",
    "finaldf.to_csv('state-vaccinated-count-overall.csv',index=False)"
   ]
  },
  {
   "cell_type": "code",
   "execution_count": null,
   "metadata": {},
   "outputs": [],
   "source": []
  }
 ],
 "metadata": {
  "kernelspec": {
   "display_name": "Python 3",
   "language": "python",
   "name": "python3"
  },
  "language_info": {
   "codemirror_mode": {
    "name": "ipython",
    "version": 3
   },
   "file_extension": ".py",
   "mimetype": "text/x-python",
   "name": "python",
   "nbconvert_exporter": "python",
   "pygments_lexer": "ipython3",
   "version": "3.8.5"
  }
 },
 "nbformat": 4,
 "nbformat_minor": 4
}
