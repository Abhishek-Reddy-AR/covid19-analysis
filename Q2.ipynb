{
 "cells": [
  {
   "cell_type": "code",
   "execution_count": 1,
   "metadata": {},
   "outputs": [],
   "source": [
    "#IMPORTING REQUIRED MODULES\n",
    "\n",
    "import warnings\n",
    "warnings.filterwarnings('ignore')\n",
    "import json\n",
    "import pandas as pd"
   ]
  },
  {
   "cell_type": "code",
   "execution_count": 2,
   "metadata": {},
   "outputs": [],
   "source": [
    "#LOADING MODIFIED NEIGHBOURS JSON FILE\n",
    "\n",
    "f=open(r'neighbor-districts-modified.json')\n",
    "data=json.load(f)"
   ]
  },
  {
   "cell_type": "code",
   "execution_count": 3,
   "metadata": {},
   "outputs": [],
   "source": [
    "#STORING KEYS AND VALUES INTO SEPERATE LISTS\n",
    "\n",
    "ks=list(data.keys())\n",
    "vs=list(data.values())"
   ]
  },
  {
   "cell_type": "code",
   "execution_count": 4,
   "metadata": {},
   "outputs": [],
   "source": [
    "#CREATING A NEW DATAFRAME TO STORE  EDGE LIST \n",
    "\n",
    "df=pd.DataFrame(columns=['Node1','Node2'])"
   ]
  },
  {
   "cell_type": "code",
   "execution_count": 5,
   "metadata": {},
   "outputs": [],
   "source": [
    "#CREATING A DICTIONARY TO STORE THE  EDGE PAIRS THAT ARE ADDED INTO DATAFRAME (SO THAT THE EDGE PAIR DOES NOT REPEAT REVERSED)\n",
    "\n",
    "d={}\n",
    "\n",
    "#ADDING THE EDGE PAIRS INTO THE DATAFRAME AND NOT ADDING THE REVERSED EDGE PAIR\n",
    "\n",
    "for i in range(len(ks)):\n",
    "    for j in range(len(vs[i])):\n",
    "        key=vs[i][j]+ks[i]\n",
    "        if key not in d:\n",
    "            df=df.append({'Node1':ks[i],'Node2':vs[i][j]},ignore_index=True)\n",
    "            d[ks[i]+vs[i][j]]=1\n"
   ]
  },
  {
   "cell_type": "code",
   "execution_count": 6,
   "metadata": {},
   "outputs": [],
   "source": [
    "#WRITING THE DATAFRAME INTO CSV FILE\n",
    "\n",
    "df.to_csv('edge-graph.csv',index=False)"
   ]
  },
  {
   "cell_type": "code",
   "execution_count": null,
   "metadata": {},
   "outputs": [],
   "source": []
  },
  {
   "cell_type": "code",
   "execution_count": null,
   "metadata": {},
   "outputs": [],
   "source": []
  },
  {
   "cell_type": "code",
   "execution_count": 49,
   "metadata": {},
   "outputs": [],
   "source": []
  },
  {
   "cell_type": "code",
   "execution_count": null,
   "metadata": {},
   "outputs": [],
   "source": []
  }
 ],
 "metadata": {
  "kernelspec": {
   "display_name": "Python 3",
   "language": "python",
   "name": "python3"
  },
  "language_info": {
   "codemirror_mode": {
    "name": "ipython",
    "version": 3
   },
   "file_extension": ".py",
   "mimetype": "text/x-python",
   "name": "python",
   "nbconvert_exporter": "python",
   "pygments_lexer": "ipython3",
   "version": "3.8.10"
  }
 },
 "nbformat": 4,
 "nbformat_minor": 4
}
