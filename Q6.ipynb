{
 "cells": [
  {
   "cell_type": "code",
   "execution_count": 1,
   "metadata": {},
   "outputs": [],
   "source": [
    "#IMPORTING REQUIRED MODULES\n",
    "\n",
    "import pandas as pd\n",
    "import warnings\n",
    "warnings.filterwarnings('ignore')\n",
    "\n",
    "#READING THE VACCINATION DATA\n",
    "\n",
    "df=pd.read_csv(r'cowin_vaccine_data_districtwise.csv')\n"
   ]
  },
  {
   "cell_type": "code",
   "execution_count": 2,
   "metadata": {},
   "outputs": [],
   "source": [
    "#READING THE CENSUS DATA\n",
    "\n",
    "censustotal=pd.read_csv(r'DDW_PCA0000_2011_Indiastatedist.csv')\n",
    "\n",
    "#REMOVING THE UNWANTED COLUMNS FROM THE CENSUS DATAFRAME\n",
    "\n",
    "censustotal=censustotal.iloc[:,[6,7,8,10,11,12]]"
   ]
  },
  {
   "cell_type": "code",
   "execution_count": 3,
   "metadata": {},
   "outputs": [],
   "source": [
    "#CREATING DICTIONARY WITH STATE NAME AS KEY AND VALUES AS STATE ID\n",
    "\n",
    "statechanges={ 'JAMMU & KASHMIR':'JK','HIMACHAL PRADESH':'HP','PUNJAB':'PB','CHANDIGARH':'CH',\n",
    "              'UTTARAKHAND':'UT','HARYANA':'HR','NCT OF DELHI':'DL','RAJASTHAN':'RJ',\n",
    "              'UTTAR PRADESH':'UP','BIHAR':'BR','SIKKIM':'SK','ARUNACHAL PRADESH':'AR',\n",
    "              'NAGALAND':'NL','MANIPUR':'MN','MIZORAM':'MZ','TRIPURA':'TR','MEGHALAYA':'ML',\n",
    "              'ASSAM':'AS','WEST BENGAL':'WB','JHARKHAND':'JH','ODISHA':'OR','CHHATTISGARH':'CT',\n",
    "              'MADHYA PRADESH':'MP','GUJARAT':'GJ','DAMAN & DIU':'DN','DADRA & NAGAR HAVELI':'DN',\n",
    "              'MAHARASHTRA':'MH','ANDHRA PRADESH':'AP','KARNATAKA':'KA','GOA':'GA','LAKSHADWEEP':'LD',\n",
    "              'KERALA':'KL','TAMIL NADU':'TN','PUDUCHERRY':'PY','ANDAMAN & NICOBAR ISLANDS':'AN'}\n",
    "\n",
    "#CHANGING STATENAMES IN CENSUS DATAFRAME TO STATEID\n",
    "\n",
    "for i in range(len(censustotal)):\n",
    "    for j in statechanges:\n",
    "        if censustotal.iloc[i,1]==j:\n",
    "            censustotal.iloc[i,1]=statechanges[j]"
   ]
  },
  {
   "cell_type": "code",
   "execution_count": 4,
   "metadata": {},
   "outputs": [],
   "source": [
    "#DISTRICT NAMES THAT ARE WRONGLY NOTED IN THE CENSUS DATA\n",
    "\n",
    "changes={'Allahabad ':'Prayagraj', 'Anugul':'Angul','Ahmadabad':'Ahmedabad',  'East District':'East Sikkim',\n",
    "        'North  District': 'North Sikkim', 'South District':'South Sikkim','West District':'West Sikkim','Garhwal':'Pauri Garhwal',\n",
    "         'Gulbarga':'Kalaburagi',\n",
    "         'Ahmadnagar':'Ahmednagar','Almora\\n':'Almora','Amritsar ':'Amritsar',\n",
    "       'Anand  ': 'Anand','Anugul  ':'Anugul','Ariyalur  ':'Ariyalur','Badgam':'Budgam','Bagalkot ':'Bagalkote',\n",
    "        'Baleshwar':'Balasore','Banas Kantha':'Banaskantha','Bandipore':'Bandipora','Bangalore Rural':'Bengaluru Rural',\n",
    "        'Bankura ':'Bankura','Bara Banki':'Barabanki','Baramula':'Baramulla','Barwani ':'Barwani','Baudh':'Boudh',\n",
    "        'Belgaum':'Belagavi','Bellary':'Ballari', 'Bid':'Beed','Bulandshahr ':'Bulandshahr','Buldana':'Buldhana',\n",
    "        'Central':'Central Delhi','Chamarajanagar':'Chamarajanagara','Chikmagalur':'Chikkamagaluru',\n",
    "         'Chittaurgarh':'Chittorgarh', 'Dadra & Nagar Haveli':'Dadra and Nagar Haveli', 'Darjiling ':'Darjeeling',\n",
    "         'Debagarh':'Deogarh', 'Dhamtari ':'Dhamtari', 'Dhaulpur':'Dholpur',  'Dimapur ':'Dimapur', 'Dindori ':'Dindori',\n",
    "        'Dohad  ':'Dahod', 'East':'East Delhi', 'Faizabad':'Ayodhya', 'Firozpur':'Ferozepur', 'Ganganagar ':'Ganganagar',\n",
    "         'Garhwa ':'Garhwa', 'Gondiya':'Gondia', 'Gurgaon':'Gurugram', 'Haora ':'Howrah', 'Harda ':'Harda',\n",
    "         'Hardwar':'Haridwar', 'Hugli ':'Hooghly', 'Idukki ':'Idukki','Jagatsinghapur ':'Jagatsinghpur',\n",
    "         'Jaintia Hills':'West Jaintia Hills', 'Jajapur  ':'Jajpur', 'Jalaun ':'Jalaun', 'Jalor':'Jalore',\n",
    "         'Jalpaiguri ':'Jalpaiguri', 'Janjgir - Champa':'Janjgir Champa', 'Jashpur ':'Jashpur', 'Jehanabad ':'Jehanabad',\n",
    "        'Jhunjhunun':'Jhunjhunu', 'Jyotiba Phule Nagar':'Amroha', 'Kachchh':'Kutch', 'Kaimur (Bhabua)':'Kaimur',\n",
    "         'Kanniyakumari':'Kanyakumari', 'Kanshiram Nagar':'Kasganj', 'Kapurthala ':'Kapurthala', 'Karur ':'Karur',\n",
    "         'Katni ':'Katni', 'Kendrapara ': 'Kendrapara', 'Khandwa (East Nimar)':'Khandwa','Khargone (West Nimar)':'Khargone',\n",
    "         'Kheri':'Lakhimpur Kheri', 'Khordha ':'Khordha', 'Koch Bihar ':'Cooch Behar', 'Kodarma':'Koderma', 'Korba ':'Korba',\n",
    "         'Lahul & Spiti':'Lahaul and Spiti', 'Leh(Ladakh)':'Leh', 'Mahamaya Nagar':'Hathras', 'Mahbubnagar':'Mahabubnagar',\n",
    "        'Mahesana':'Mehsana', 'Mahrajganj':'Maharajganj', 'Maldah ':'Malda', 'Malkangiri  ':'Malkangiri', 'Mewat ':'Nuh',\n",
    "         'Muktsar':'Sri Muktsar Sahib', 'Murshidabad ':'Murshidabad', 'Mysore':'Mysuru', 'Nabarangapur ':'Nabarangapur',\n",
    "         'Nadia ':'Nadia', 'Nagapattinam  ': 'Nagapattinam','Namakkal   ':'Namakkal', 'Narsimhapur':'Narsinghpur', 'Navsari  ':'Navsari', 'Nayagarh  ':'Nayagarh',\n",
    "         'Neemuch ':'Neemuch', 'North':'North Delhi', 'North  & Middle Andaman':'North and Middle Andaman', 'North East':'North East Delhi',\n",
    "         'North Twenty Four Parganas':'North 24 Parganas', 'North West':'North West Delhi', 'Palwal ':'Palwal',\n",
    "         'Panch Mahals':'Panchmahal','Pashchim Champaran':'West Champaran', 'Pashchimi Singhbhum':'West Singhbhum', 'Patan  ':'Patan',\n",
    "         'Perambalur  ':'Perambalur', 'Porbandar ':'Porbandar', 'Purba Champaran':'East Champaran', 'Purbi Singhbhum': 'East Singhbhum',\n",
    "         'Puruliya':'Purulia', 'Rangareddy':'Ranga Reddy', 'Rayagada  ':'Rayagada','Sabar Kantha':'Sabarkantha', 'Sahibzada Ajit Singh Nagar':'S.A.S. Nagar', 'Sant Ravidas Nagar (Bhadohi)':'Bhadohi',\n",
    "         'Shahid Bhagat Singh Nagar ':'Shahid Bhagat Singh Nagar', 'Sheopur ':'Sheopur', 'Shimoga':'Shivamogga',\n",
    "         'Shupiyan': 'Shopiyan', 'South':'South Delhi','South Tripura ':'South Tripura', 'South Twenty Four Parganas':'South 24 Parganas', 'South West':'South West Delhi',\n",
    "         'Sri Potti Sriramulu Nellore':'S.P.S. Nellore', 'Tamenglong ':'Tamenglong', 'The Dangs':'Dang',\n",
    "         'The Nilgiris':'Nilgiris', 'Theni  ': 'Theni', 'Tirunelveli ':'Tirunelveli', 'Tumkur':'Tumakuru',\n",
    "         'West':'West Delhi', 'West Tripura ':'West Tripura', 'Y.S.R.':'Y.S.R. Kadapa'}"
   ]
  },
  {
   "cell_type": "code",
   "execution_count": 5,
   "metadata": {},
   "outputs": [],
   "source": [
    "#CORRECTING THE DISTRCICTNAMES IN THE CENSUS DATA\n",
    "\n",
    "for i in range(len(censustotal)):\n",
    "    for j in changes:\n",
    "        if censustotal.iloc[i,1]==j:\n",
    "            censustotal.iloc[i,1]=changes[j]"
   ]
  },
  {
   "cell_type": "code",
   "execution_count": 6,
   "metadata": {},
   "outputs": [],
   "source": [
    "#INDEXES OF ROWS OF CENSUS DATA THAT CONTAIN STATE DATA\n",
    "\n",
    "indexes=[3,72,  111,  174,  180,  222,  288,  318,  420,  636,  753,\n",
    "             768,  819,  855,  885,  912,  927,  951, 1035, 1095, 1170, 1263,\n",
    "            1320, 1473, 1554, 1563, 1569, 1677, 1749, 1842, 1851, 1857, 1902,\n",
    "            2001, 2016]"
   ]
  },
  {
   "cell_type": "code",
   "execution_count": 7,
   "metadata": {},
   "outputs": [],
   "source": [
    "#PREFIXING THE DISTRICT NAME IN THE CENSUS DATA WITH THE STATEID\n",
    "\n",
    "for i in range(len(indexes)-1):\n",
    "    name=censustotal.iloc[indexes[i],1]\n",
    "    for j in range(indexes[i]+1,indexes[i+1]):\n",
    "        censustotal.iloc[j,1]=name+'_'+censustotal.iloc[j,1]\n",
    "name=censustotal.iloc[2016,1]\n",
    "for i in range(2017,len(censustotal)):\n",
    "    censustotal.iloc[i,1]=name+'_'+censustotal.iloc[i,1]"
   ]
  },
  {
   "cell_type": "code",
   "execution_count": 8,
   "metadata": {},
   "outputs": [],
   "source": [
    "#GETTING ONLY ROWS THAT CONTAIN DISTRICT VALUES AND TOTAL VALUES FROM CENSUS DATAFRAM\n",
    "\n",
    "censustotal=censustotal[censustotal['TRU']=='Total']\n",
    "census=censustotal[censustotal['Level']=='DISTRICT']"
   ]
  },
  {
   "cell_type": "code",
   "execution_count": 9,
   "metadata": {},
   "outputs": [],
   "source": [
    "#AS THE CENSUS DATA IS OLD,CHANGING TELANGANA DISTRICTS INTO ANDHRA PRADESH DISTRICTS AND LADAKH DISTRICTS INTO\n",
    "#JAMMU AND KASHMIR DISTRICTS AND ALSO SOME CHANGES TO OTHER DISTRICTIDS\n",
    "\n",
    "morechanges={'AP_Adilabad':'TG_Adilabad','AP_Hyderabad':'TG_Hyderabad','AP_Karimnagar':'TG_Karimnagar',\n",
    " 'AP_Khammam':'TG_Khammam','AP_Mahabubnagar':'TG_Mahabubnagar','AP_Medak':'TG_Medak','AP_Nalgonda':'TG_Nalgonda',\n",
    " 'AP_Nizamabad':'TG_Nizamabad','AP_Ranga Reddy':'TG_Ranga Reddy','AR_Dibang Valley':'AR_Upper Dibang Valley',\n",
    " 'JK_Kargil':'LA_Kargil','JK_Leh':'LA_Leh', 'KA_Bijapur':  'KA_Vijayapura','MH_Raigarh':  'MH_Raigad','OR_Anugul':'OR_Angul'}\n",
    "\n",
    "for i in range(len(census)):\n",
    "    if census.iloc[i,1] in morechanges:\n",
    "        census.iloc[i,1]=morechanges[census.iloc[i,1]]"
   ]
  },
  {
   "cell_type": "code",
   "execution_count": 10,
   "metadata": {},
   "outputs": [],
   "source": [
    "#GETTING ONLY REQ COLUMNS FROM CENSUS DATA\n",
    "\n",
    "censusreq=census.iloc[:,[1,4,5]]"
   ]
  },
  {
   "cell_type": "code",
   "execution_count": 11,
   "metadata": {},
   "outputs": [],
   "source": [
    "#INDEXES OF DISTRICT ID  ,MALE VACCINATED UNTIL THE END DATE ,FEMALE VACCINATED OF THE END DATE \n",
    "\n",
    "need=[3,2111,2112]"
   ]
  },
  {
   "cell_type": "code",
   "execution_count": 12,
   "metadata": {},
   "outputs": [],
   "source": [
    "#GETTING ONLY THE ABOVE MENTIONED COLUMNS FROM VACCINE DATA\n",
    "\n",
    "dfreq=df.iloc[:,need]"
   ]
  },
  {
   "cell_type": "code",
   "execution_count": 13,
   "metadata": {},
   "outputs": [],
   "source": [
    "#THERE ARE SOME DISTRICT KEYS WHICH HAVE SAME VALUE IN VACCINE DATA SO WE \n",
    "#GROUPBY THOSE DISTRCIT KEYS AND CREATE THEM AS ONLY 1 ENTRY(BY ADDING ALL COLUMN VALUES CORRESPONDING TO THAT GROUP)\n",
    "\n",
    "dfreq=dfreq.groupby(['District_Key'],as_index=False).agg(func='sum')"
   ]
  },
  {
   "cell_type": "code",
   "execution_count": 14,
   "metadata": {},
   "outputs": [],
   "source": [
    "#MERGING THE DISTRICTVACCINE DATAFRAME AND DISTRICT CENSUS DATAFRAME BASED ON DISTRICTIDS IN BOTH DATAFRAMES\n",
    "\n",
    "merged = pd.merge(left=censusreq, right=dfreq, left_on='Name', right_on='District_Key')"
   ]
  },
  {
   "cell_type": "code",
   "execution_count": 15,
   "metadata": {},
   "outputs": [],
   "source": [
    "#RENAMING THE COLUMNS IN MERGED DATA FRAME\n",
    "\n",
    "merged.columns=(['Name', 'TOT_M', 'TOT_F', 'District_Key', 'M_V',\n",
    "       'FM_V'])"
   ]
  },
  {
   "cell_type": "code",
   "execution_count": 16,
   "metadata": {
    "scrolled": true
   },
   "outputs": [],
   "source": [
    "#CREATING A LIST AND STORING THE FEMALE TO MALE VACCINATION RATIO OF EACH DISTRICT\n",
    "\n",
    "vr=[]\n",
    "for i in range(len(merged)):\n",
    "    vr.append(float(merged.iloc[i,5])/float(merged.iloc[i,4]))"
   ]
  },
  {
   "cell_type": "code",
   "execution_count": 17,
   "metadata": {},
   "outputs": [],
   "source": [
    "#CREATING A LIST AND STORING THE FEMALE TO MALE POPULATION RATIO OF EACH DISTRICT\n",
    "\n",
    "pr=[]\n",
    "for i in range(len(merged)):\n",
    "    pr.append(float(merged.iloc[i,2])/float(merged.iloc[i,1]))"
   ]
  },
  {
   "cell_type": "code",
   "execution_count": 18,
   "metadata": {},
   "outputs": [],
   "source": [
    "#CREATING A LIST AND STORING THE RATIO OF ABOVE CALCULATED RATIOS OF EACH DISTRICT\n",
    "\n",
    "ror=[]\n",
    "for i in range(len(vr)):\n",
    "    ror.append(vr[i]/pr[i])"
   ]
  },
  {
   "cell_type": "code",
   "execution_count": 19,
   "metadata": {},
   "outputs": [],
   "source": [
    "#MAKING THE ABOVE CREATED LISTS AS COLUMNS IN THE MERGED DATA FRAME\n",
    "\n",
    "merged['vr']=vr\n",
    "merged['pr']=pr\n",
    "merged['ror']=ror"
   ]
  },
  {
   "cell_type": "code",
   "execution_count": 20,
   "metadata": {},
   "outputs": [],
   "source": [
    "#SORTING THE ROWS BASED ON RATIO OF RATIOS VALUE\n",
    "\n",
    "merged=merged.sort_values(by=['ror'])"
   ]
  },
  {
   "cell_type": "code",
   "execution_count": 21,
   "metadata": {},
   "outputs": [],
   "source": [
    "#GETTING ONLY THE REQUIRED COLUMNS FROM THE MERGED DATAFRAME\n",
    "\n",
    "finaldf=merged.iloc[:,[0,6,7,8]]"
   ]
  },
  {
   "cell_type": "code",
   "execution_count": 22,
   "metadata": {
    "scrolled": true
   },
   "outputs": [],
   "source": [
    "#RENAMING THE COLUMNS\n",
    "\n",
    "finaldf.columns=['districtid','vaccinationratio','populationratio','ratioofratios']"
   ]
  },
  {
   "cell_type": "code",
   "execution_count": 23,
   "metadata": {},
   "outputs": [],
   "source": [
    "#WRITING THE FINAL DATAFRAME TO CSV FILE\n",
    "\n",
    "finaldf.to_csv('district-vaccination-population-ratio.csv',index=False)"
   ]
  },
  {
   "cell_type": "code",
   "execution_count": null,
   "metadata": {},
   "outputs": [],
   "source": []
  },
  {
   "cell_type": "code",
   "execution_count": 24,
   "metadata": {},
   "outputs": [],
   "source": [
    "#GETTING ONLY ROWS THAT CONTAIN STATE VALUES  FROM CENSUS DATAFRAME\n",
    "\n",
    "census=censustotal[censustotal['Level']=='STATE']\n",
    "\n",
    "#AS THE CENSUS DATA IS OLD , 'DAMAN & DIU' AND 'DADRA & NAGAR HAVELI' HAVE COMBINED AND FORMED A SINGLE STATE NOW\n",
    "#SO FROM CENSUS DATA COMBINING THE STATES DATA THAT HAVE STATE ID 'DN' AND MAKING THEM AS A SINGLE STATE\n",
    "\n",
    "census=census[census['Name']!='DN']\n",
    "census=census.append({'Level':'STATE','Name':'DN','TRU':'Total','TOT_P':586956,'TOT_M':344061,'TOT_F':242895},ignore_index=True)"
   ]
  },
  {
   "cell_type": "code",
   "execution_count": 25,
   "metadata": {},
   "outputs": [],
   "source": [
    "#AS THE CENSUS DATA IS OLD , TELANGANA AND AP HAVE NOT YET DIVIDED AND ALSO LADAKH AND JAMMUKASHMIR ARE ALSO NOT DIVIDED\n",
    "\n",
    "#SO IN VACCINE DATA WE CHANGE THE STATEIDS OF TELANGANA TO AP AND LADAKH TO JK\n",
    "\n",
    "\n",
    "for i in range(len(df)):\n",
    "    if df.iloc[i,1]=='LA':\n",
    "        df.iloc[i,1]='JK'\n",
    "    if df.iloc[i,1]=='TG':\n",
    "        df.iloc[i,1]='AP'"
   ]
  },
  {
   "cell_type": "code",
   "execution_count": 26,
   "metadata": {},
   "outputs": [],
   "source": [
    "#GETTING ONLY THE REQUIRED COLUMNS FROM THE CENSUS DATA\n",
    "\n",
    "censusreq=census.iloc[:,[1,4,5]]\n",
    "\n",
    "#STORING THE INDICES OF REQ COLUMNS OF VACCINE DATA(STATEID,TOTAL MALES VACCINATED ,TOTAL FEMALES VACCINATED UNTIL THE FINAL DATE)\n",
    "\n",
    "need=[1,2111,2112]\n",
    "\n",
    "#GETTING ONLY THE ABOVE MENTIONED COLUMNS FROM THE VACCINE DATA\n",
    "\n",
    "dfreq=df.iloc[:,need]\n"
   ]
  },
  {
   "cell_type": "code",
   "execution_count": 27,
   "metadata": {},
   "outputs": [],
   "source": [
    "#REMOVING THE FIRST ROW AS IT IS NOT VALUES(METADATA)\n",
    "\n",
    "dfreq=dfreq.iloc[1:,:]"
   ]
  },
  {
   "cell_type": "code",
   "execution_count": 28,
   "metadata": {},
   "outputs": [],
   "source": [
    "#STORING THE MALE VACCINATED AND FEMALE VACCINATED VALUES INTO SEPERATE LISTS\n",
    "\n",
    "malevac=list(dfreq.iloc[:,1])\n",
    "femalevac=list(dfreq.iloc[:,2])"
   ]
  },
  {
   "cell_type": "code",
   "execution_count": 29,
   "metadata": {},
   "outputs": [],
   "source": [
    "#CONVERTING VALUES OF MALES VACCINATED AND FEMALES VACCINATED WHICH ARE AS STRINGS TO FLOAT\n",
    "\n",
    "for i in range(len(malevac)):\n",
    "    malevac[i]=float(malevac[i])\n",
    "    femalevac[i]=float(femalevac[i])"
   ]
  },
  {
   "cell_type": "code",
   "execution_count": 30,
   "metadata": {},
   "outputs": [],
   "source": [
    "#STORING THE ABOVE CHANGED VALUES INTO THE DATA FRAME\n",
    "\n",
    "dfreq['male']=malevac\n",
    "dfreq['female']=femalevac"
   ]
  },
  {
   "cell_type": "code",
   "execution_count": 31,
   "metadata": {},
   "outputs": [],
   "source": [
    "#GROUPING  VACCINATION DATA BY STATE ID\n",
    "\n",
    "gdf=dfreq.groupby(['State_Code'])"
   ]
  },
  {
   "cell_type": "code",
   "execution_count": 32,
   "metadata": {},
   "outputs": [],
   "source": [
    "#CREATING FINAL DATAFRAME\n",
    "\n",
    "finaldfreq=pd.DataFrame(columns=['Stateid','v_m','v_fm'])"
   ]
  },
  {
   "cell_type": "code",
   "execution_count": 33,
   "metadata": {},
   "outputs": [],
   "source": [
    "#ADDING STATE ID , SUM OF ALL MALES VACCINATED, SUM OF ALL FEMALES VACCINATED UNTIL THE LAST WEEK OF THAT PARTICULAR STATE\n",
    "\n",
    "for i,j in gdf:\n",
    "   finaldfreq=finaldfreq.append({'Stateid':i,'v_m':sum(j['male']),'v_fm':sum(j['female'])},ignore_index=True)"
   ]
  },
  {
   "cell_type": "code",
   "execution_count": 34,
   "metadata": {},
   "outputs": [],
   "source": [
    "#MERGING THE STATEVACCINE DATAFRAME AND STATE CENSUS DATAFRAME BASED ON STATEIDS IN BOTH DATAFRAMES\n",
    "\n",
    "merged = pd.merge(left=censusreq, right=finaldfreq, left_on='Name', right_on='Stateid')"
   ]
  },
  {
   "cell_type": "code",
   "execution_count": 35,
   "metadata": {},
   "outputs": [],
   "source": [
    "#CREATING A LIST AND STORING THE FEMALE TO MALE VACCINATION RATIO OF EACH STATE\n",
    "\n",
    "vr=[]\n",
    "for i in range(len(merged)):\n",
    "    vr.append(float(merged.iloc[i,5])/float(merged.iloc[i,4]))"
   ]
  },
  {
   "cell_type": "code",
   "execution_count": 36,
   "metadata": {},
   "outputs": [],
   "source": [
    "#CREATING A LIST AND STORING THE FEMALE TO MALE POPULATION RATIO OF EACH STATE\n",
    "\n",
    "pr=[]\n",
    "for i in range(len(merged)):\n",
    "    pr.append(float(merged.iloc[i,2])/float(merged.iloc[i,1]))"
   ]
  },
  {
   "cell_type": "code",
   "execution_count": 37,
   "metadata": {},
   "outputs": [],
   "source": [
    "#CREATING A LIST AND STORING THE RATIO OF ABOVE CALCULATED RATIOS OF EACH STATE\n",
    "\n",
    "ror=[]\n",
    "for i in range(len(vr)):\n",
    "    ror.append(vr[i]/pr[i])"
   ]
  },
  {
   "cell_type": "code",
   "execution_count": 38,
   "metadata": {},
   "outputs": [],
   "source": [
    "#MAKING THE ABOVE CREATED LISTS AS COLUMNS IN THE MERGED DATA FRAME\n",
    "\n",
    "merged['vr']=vr\n",
    "merged['pr']=pr\n",
    "merged['ror']=ror"
   ]
  },
  {
   "cell_type": "code",
   "execution_count": 39,
   "metadata": {},
   "outputs": [],
   "source": [
    "#SORTING THE ROWS BASED ON RATIO OF RATIOS VALUE\n",
    "\n",
    "merged=merged.sort_values(by=['ror'])"
   ]
  },
  {
   "cell_type": "code",
   "execution_count": 40,
   "metadata": {},
   "outputs": [],
   "source": [
    "#GETTING ONLY THE REQUIRED COLUMNS FROM THE MERGED DATAFRAME\n",
    "\n",
    "finaldf=merged.iloc[:,[0,6,7,8]]\n"
   ]
  },
  {
   "cell_type": "code",
   "execution_count": 41,
   "metadata": {},
   "outputs": [],
   "source": [
    "#RENAMING THE COLUMNS\n",
    "\n",
    "finaldf.columns=['stateid','vaccinationratio','populationratio','ratioofratios']"
   ]
  },
  {
   "cell_type": "code",
   "execution_count": 42,
   "metadata": {},
   "outputs": [],
   "source": [
    "#WRITING THE FINAL DATAFRAME TO CSV FILE\n",
    "\n",
    "finaldf.to_csv('state-vaccination-population-ratio.csv',index=False)"
   ]
  },
  {
   "cell_type": "code",
   "execution_count": 43,
   "metadata": {},
   "outputs": [],
   "source": [
    "#GETTING CENSUS DATA OF ROWS CORRESPONDING TO INDIA\n",
    "\n",
    "df=censustotal[censustotal['Name']=='India']"
   ]
  },
  {
   "cell_type": "code",
   "execution_count": 44,
   "metadata": {},
   "outputs": [],
   "source": [
    "#ADDING THE TOTAL NO OF MALES VACCINATED AND TOTAL NO OF FEMALES VACCINATED OF EACH STATE (WHICH IS PREVIOUSLY COMPUTED)\n",
    "#TO GET THE OVERALL MALES VACCINATED AND FEMALES VACCINATED IN INDIA\n",
    "\n",
    "total_male_vacc=sum(merged['v_m'])"
   ]
  },
  {
   "cell_type": "code",
   "execution_count": 45,
   "metadata": {},
   "outputs": [],
   "source": [
    "total_female_vacc=sum(merged['v_fm'])"
   ]
  },
  {
   "cell_type": "code",
   "execution_count": 46,
   "metadata": {
    "scrolled": true
   },
   "outputs": [],
   "source": [
    "#ADDING THE ABOVE COMPUTED VALUES INTO THE DATAFRAME\n",
    "\n",
    "df['v_m']=total_male_vacc\n",
    "df['v_fm']=total_female_vacc"
   ]
  },
  {
   "cell_type": "code",
   "execution_count": 47,
   "metadata": {
    "scrolled": true
   },
   "outputs": [],
   "source": [
    "#GETTING ONLY THE REQ COLUMNS FROM THE DATA FRAME\n",
    "\n",
    "df=df.iloc[:,[1,4,5,6,7]]"
   ]
  },
  {
   "cell_type": "code",
   "execution_count": 48,
   "metadata": {},
   "outputs": [],
   "source": [
    "#CALCULATING INDIA WIDE FEMALE TO MALE VACCINATION RATIO AND FEMALE TO MALE POPULATION RATIO \n",
    "\n",
    "df['vr']=df['v_fm']/df['v_m']"
   ]
  },
  {
   "cell_type": "code",
   "execution_count": 49,
   "metadata": {},
   "outputs": [],
   "source": [
    "df['pr']=df['TOT_F']/df['TOT_M']"
   ]
  },
  {
   "cell_type": "code",
   "execution_count": 50,
   "metadata": {},
   "outputs": [],
   "source": [
    "#CALCULATING INDIA WIDE RATIO OF RATIOS\n",
    "\n",
    "df['ror']=df['vr']/df['pr']"
   ]
  },
  {
   "cell_type": "code",
   "execution_count": 51,
   "metadata": {},
   "outputs": [],
   "source": [
    "#GETTING ONLY THE REQ COLUMNS FROM THE DATA FRAME\n",
    "\n",
    "df=df.iloc[:,[0,5,6,7]]"
   ]
  },
  {
   "cell_type": "code",
   "execution_count": 52,
   "metadata": {},
   "outputs": [],
   "source": [
    "#RENAMING THE COLUMNS \n",
    "\n",
    "df.columns=['overallid','vaccinationratio','populationratio','ratioofratios']"
   ]
  },
  {
   "cell_type": "code",
   "execution_count": 53,
   "metadata": {},
   "outputs": [],
   "source": [
    "df['overallid']=1"
   ]
  },
  {
   "cell_type": "code",
   "execution_count": 54,
   "metadata": {},
   "outputs": [],
   "source": [
    "#WRITING THE DATAFRAME INTO A CSV FILE\n",
    "\n",
    "df.to_csv('overall-vaccination-population-ratio.csv',index=False)"
   ]
  },
  {
   "cell_type": "code",
   "execution_count": null,
   "metadata": {},
   "outputs": [],
   "source": []
  },
  {
   "cell_type": "code",
   "execution_count": null,
   "metadata": {},
   "outputs": [],
   "source": []
  }
 ],
 "metadata": {
  "kernelspec": {
   "display_name": "Python 3",
   "language": "python",
   "name": "python3"
  },
  "language_info": {
   "codemirror_mode": {
    "name": "ipython",
    "version": 3
   },
   "file_extension": ".py",
   "mimetype": "text/x-python",
   "name": "python",
   "nbconvert_exporter": "python",
   "pygments_lexer": "ipython3",
   "version": "3.8.10"
  }
 },
 "nbformat": 4,
 "nbformat_minor": 4
}
