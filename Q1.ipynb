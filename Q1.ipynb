{
 "cells": [
  {
   "cell_type": "code",
   "execution_count": 1,
   "metadata": {},
   "outputs": [],
   "source": [
    "#IMPORTING REQUIRED MODULES\n",
    "\n",
    "import warnings\n",
    "warnings.filterwarnings('ignore')\n",
    "import json\n",
    "import pandas as pd"
   ]
  },
  {
   "cell_type": "code",
   "execution_count": 2,
   "metadata": {},
   "outputs": [],
   "source": [
    "#OPENING NEIGHBOUR DISTRICTS JSON FILE\n",
    "\n",
    "f=open(r'neighbor-districts.json')"
   ]
  },
  {
   "cell_type": "code",
   "execution_count": 3,
   "metadata": {
    "scrolled": false
   },
   "outputs": [],
   "source": [
    "#LOADING THE OPENED FILE\n",
    "\n",
    "data=json.load(f)\n",
    "\n",
    "#DISTRICTS THAT HAVE TO BE DELETED FROM NEIGHBOUR FILE SINCE THEY ARE NOT IN VACCINE DATA\n",
    "\n",
    "districts_to_be_deleted=['konkan_division/Q6268840', 'niwari/Q63563797', 'noklak/Q48731903','mumbai_suburban/Q2085374']\n",
    "\n",
    "#DELETING THE ABOVE DISTRICTS FROM THE  KEYS DICTIONARY\n",
    "\n",
    "for i in districts_to_be_deleted:\n",
    "    del data[i]"
   ]
  },
  {
   "cell_type": "code",
   "execution_count": 4,
   "metadata": {},
   "outputs": [],
   "source": [
    "#STORING DICTIONARY KEYS AND VALUES IN SEPERATE LISTS\n",
    "\n",
    "ks=list(data.keys())\n",
    "vs=list(data.values())\n",
    "\n",
    "\n",
    "#CHANGING STRINGS '_district' TO '' AND '_' TO ' ' IN BOTH KEYS AND VALUES LISTS\n",
    "\n",
    "for i in range(len(ks)):\n",
    "    ks[i]=ks[i].replace('_district','')\n",
    "    ks[i]=ks[i].replace('_',' ')\n",
    "for i in range(len(vs)):\n",
    "    for j in range(len(vs[i])):\n",
    "      vs[i][j]=vs[i][j].replace('_district','')\n",
    "      vs[i][j]=vs[i][j].replace('_',' ')"
   ]
  },
  {
   "cell_type": "code",
   "execution_count": 5,
   "metadata": {},
   "outputs": [],
   "source": [
    "#PREFIXING THE DISTRICTS THAT HAVE SAME NAME BUT ARE PRESENT IN DIFFERENT STATES WITH THE STATE ID(BASED ON Q CODE)\n",
    "\n",
    "same_named_districts = {}\n",
    "same_named_districts.update({'aurangabad/Q43086':'BR_Aurangabad','aurangabad/Q592942':'MH_Aurangabad',\n",
    "                   'balrampur/Q16056268':'CT_Balrampur','balrampur/Q1948380':'UP_Balrampur',\n",
    "                  'bilaspur/Q100157':'CT_Bilaspur','bilaspur/Q1478939':'HP_Bilaspur',\n",
    "                  'hamirpur/Q2019757':'UP_Hamirpur','hamirpur/Q2086180':'HP_Hamirpur',\n",
    "                  'pratapgarh/Q1473962':'UP_Pratapgarh','pratapgarh/Q1585433':'RJ_Pratapgarh','bijapur/Q100164':'CT_Bijapur','bijapur/Q1727570':'KA_Vijayapura'})\n",
    "old=list(same_named_districts.keys())\n",
    "new=list(same_named_districts.values())\n",
    "\n",
    "#MAKING CHANGE IN KEYS LIST\n",
    "\n",
    "for i in range(len(ks)):\n",
    "    for j in range(len(old)):\n",
    "        if old[j].lower()==ks[i].lower():\n",
    "            ks[i]=new[j]\n",
    "            \n",
    "#MAKING CHANGE IN VALUES LIST\n",
    "\n",
    "for i in range(len(vs)):\n",
    "    for j in range(len(vs[i])):\n",
    "        for k in range(len(old)):\n",
    "          if old[k].lower()==vs[i][j].lower():\n",
    "             vs[i][j]=new[k]\n"
   ]
  },
  {
   "cell_type": "code",
   "execution_count": 6,
   "metadata": {},
   "outputs": [],
   "source": [
    "#FROM KEYS LIST ONLY STORING THE DISTRICTNAME AND REMOVING THE QCODE ASSOCIATED WITH IT\n",
    "\n",
    "for i in range(len(ks)):\n",
    "    ks[i]=ks[i].split('/')[0]\n",
    "    \n",
    "#FROM VALUES LIST ONLY STORING THE DISTRICTNAME AND REMOVING THE QCODE ASSOCIATED WITH IT\n",
    "\n",
    "for i in range(len(vs)):\n",
    "    for j  in range(len(vs[i])):\n",
    "        vs[i][j]=vs[i][j].split('/')[0]"
   ]
  },
  {
   "cell_type": "code",
   "execution_count": 7,
   "metadata": {
    "scrolled": true
   },
   "outputs": [],
   "source": [
    "#DISTRICTS THAT HAVE TO BE DELETED FROM NEIGHBOUR FILE SINCE THEY ARE NOT IN VACCINE DATA FROM VALUES LIST\n",
    "\n",
    "values_to_delete=['konkan division', 'niwari', 'noklak', 'mumbai suburban']\n",
    "for i in range(len(vs)):\n",
    "  for j in values_to_delete:\n",
    "    if j in vs[i]:\n",
    "       vs[i].remove(j)\n",
    "            "
   ]
  },
  {
   "cell_type": "code",
   "execution_count": 8,
   "metadata": {},
   "outputs": [],
   "source": [
    "#DISTRICT NAMES THAT ARE WRONG IN THE NEIGHBOURS FILE\n",
    "\n",
    "changes1=['aizwal','anugul','ashok nagar', 'badgam','baleshwar', 'banas kantha','bangalore rural',\n",
    "          'bangalore urban','baramula', 'baudh','belgaum', 'bellary','bemetara', 'bid','bishwanath',\n",
    "          'chamarajanagar', 'dantewada','debagarh','devbhumi dwaraka', 'dhaulpur','east karbi anglong', 'faizabad',\n",
    "          'fategarh sahib', 'firozpur', 'gondiya', 'hugli','jagatsinghapur', 'jajapur', 'jalor','jhunjhunun',\n",
    "          'jyotiba phule nagar', 'kabirdham','kaimur (bhabua)', 'kanchipuram','kheri','kochbihar', 'kodarma',\n",
    "          'komram bheem','lahul and spiti', 'mahesana','mahrajganj', 'maldah','marigaon', 'muktsar','mumbai city', 'nandubar',\n",
    "          'narsimhapur', 'nav sari','pakaur', 'palghat','panch mahal','pashchim champaran', 'pashchimi singhbhum',\n",
    "          'pattanamtitta', 'purba champaran', 'purbi singhbhum', 'puruliya','rae bareilly', 'rajauri','rangareddy', 'ri-bhoi',\n",
    "          'sabar kantha',\n",
    "'sahibzada ajit singh nagar', 'sait kibir nagar', 'sant ravidas nagar' ,'sepahijala','seraikela kharsawan','shaheed bhagat singh nagar' ,'sharawasti','shimoga' ,'shopian','siddharth nagar' ,'sivagangai' ,'sonapur','south salmara-mankachar' ,'sri ganganagar','sri potti sriramulu nellore' ,'the dangs','the nilgiris' ,'thoothukudi','tiruchchirappalli','tirunelveli kattabo','tiruvanamalai','tumkur','yadagiri','ysr','janjgir-champa', 'medchal–malkajgiri']"
   ]
  },
  {
   "cell_type": "code",
   "execution_count": 9,
   "metadata": {},
   "outputs": [],
   "source": [
    "#CORRECT DISTICT NAMES FOR THE ABOVE WRONG NAMES\n",
    "\n",
    "changes2=['aizawl','angul','ashoknagar', 'budgam','balasore', 'banaskantha','bengaluru rural', 'bengaluru urban','baramulla', 'boudh',\n",
    "          'belagavi', 'ballari','bametara', 'beed','biswanath', 'chamarajanagara','dakshin bastar dantewada', 'deogarh',\n",
    "          'devbhumi dwarka', 'dholpur','karbi anglong', 'ayodhya','fatehgarh sahib', 'ferozepur', 'gondia', 'hooghly',\n",
    "          'jagatsinghpur', 'jajpur', 'jalore','jhunjhunu', 'amroha','kabeerdham', 'kaimur','kancheepuram',\n",
    "          'lakhimpur kheri', 'cooch behar','koderma', 'komaram bheem','lahaul and spiti', 'mehsana','maharajganj', 'malda',\n",
    "          'morigaon','sri muktsar sahib', 'mumbai','nandurbar','narsinghpur', 'navsari','pakur', 'palakkad', 'panchmahal',\n",
    "          'west champaran', 'west singhbhum', 'pathanamthitta', 'east champaran', 'east singhbhum', 'purulia',\n",
    "          'rae bareli', 'rajouri','ranga reddy', 'ribhoi','sabarkantha', 's.a.s. nagar','sant kabir nagar', 'bhadohi',\n",
    "          'sipahijala','saraikela-kharsawan','shahid bhagat singh nagar', 'shrawasti','shivamogga', 'shopiyan',\n",
    "          'siddharthnagar', 'sivaganga', 'subarnapur','south salmara mankachar', 'ganganagar','s.p.s. nellore', 'dang',\n",
    "          'nilgiris', 'thoothukkudi','tiruchirappalli', 'tirunelveli','tiruvannamalai', 'tumakuru','yadgir', 'y.s.r. kadapa','janjgir champa', 'medchal malkajgiri']"
   ]
  },
  {
   "cell_type": "code",
   "execution_count": 10,
   "metadata": {},
   "outputs": [],
   "source": [
    "#CHANGING ALL THE WRONG DISTRICT NAMES TO CORRECT NAMES IN KEYS LIST\n",
    "\n",
    "for i in range(len(changes1)):\n",
    "    for j in range(len(ks)):\n",
    "        if ks[j].lower()==changes1[i].lower():\n",
    "            ks[j]=changes2[i].lower()"
   ]
  },
  {
   "cell_type": "code",
   "execution_count": 11,
   "metadata": {},
   "outputs": [],
   "source": [
    "#CHANGING ALL THE WRONG DISTRICT NAMES TO CORRECT NAMES IN VALUES LIST\n",
    "\n",
    "for i in range(len(vs)):\n",
    "    for j in range(len(vs[i])):\n",
    "        for k in range(len(changes1)):\n",
    "          if changes1[k].lower()==vs[i][j].lower():\n",
    "             vs[i][j]=changes2[k]\n"
   ]
  },
  {
   "cell_type": "code",
   "execution_count": 12,
   "metadata": {},
   "outputs": [],
   "source": [
    "#LOADING THE VACCINE DATA\n",
    "\n",
    "df1=pd.read_csv(r'cowin_vaccine_data_districtwise.csv')"
   ]
  },
  {
   "cell_type": "code",
   "execution_count": 13,
   "metadata": {},
   "outputs": [],
   "source": [
    "#STORING THE DISTRICT KEY OF VACCINE DATA IN A LIST\n",
    "\n",
    "vac=list(df1['District_Key'])"
   ]
  },
  {
   "cell_type": "code",
   "execution_count": 14,
   "metadata": {},
   "outputs": [],
   "source": [
    "#REMOVING THE FIRST VALUE IN THE LIST SINCE IT IS NAN\n",
    "\n",
    "vac=vac[1:]\n",
    "    "
   ]
  },
  {
   "cell_type": "code",
   "execution_count": 15,
   "metadata": {
    "scrolled": true
   },
   "outputs": [],
   "source": [
    "#REMOVING THE STATE CODES FROM DISTRICT KEY\n",
    "\n",
    "onlydist=[]\n",
    "for i in range(len(vac)):\n",
    "    onlydist.append(vac[i].split('_')[1])"
   ]
  },
  {
   "cell_type": "code",
   "execution_count": 16,
   "metadata": {},
   "outputs": [],
   "source": [
    "#ADDING STATECODES TO THE DISTRICT NAMES IN KEYS LIST\n",
    "\n",
    "for i in range(len(ks)):\n",
    "    for j in range(len(onlydist)):\n",
    "        if ks[i].lower()==onlydist[j].lower():\n",
    "            ks[i]=vac[j]"
   ]
  },
  {
   "cell_type": "code",
   "execution_count": 17,
   "metadata": {},
   "outputs": [],
   "source": [
    "#ADDING STATECODES TO THE DISTRICT NAMES IN VALUE LIST\n",
    "\n",
    "for i in range(len(vs)):\n",
    "    for j in range(len(vs[i])):\n",
    "        for k in range(len(onlydist)):\n",
    "            if vs[i][j].lower()==onlydist[k].lower():\n",
    "                vs[i][j]=vac[k]\n",
    "                \n",
    "#CREATING NEW DATA FRAME WITH KEYS LIST AND VALUES LIST AS DIFFERENT COLUMNS\n",
    "\n",
    "finaldf=pd.DataFrame()\n",
    "finaldf['id']=ks\n",
    "finaldf['neigh']=vs\n",
    "\n",
    "#SORTING THE DATA FRAME BASED ON THE DISTRICT ID\n",
    "\n",
    "finaldf=finaldf.sort_values('id')"
   ]
  },
  {
   "cell_type": "code",
   "execution_count": 18,
   "metadata": {},
   "outputs": [],
   "source": [
    "#CREATING A FINAL DICTIONARY\n",
    "\n",
    "finaldict={}\n",
    "ordered_keys=list(finaldf['id'])\n",
    "ordered_values=list(finaldf['neigh'])\n",
    "\n",
    "# ADDING THE DISTRICT ID AS KEY AND ITS NEIGHBOURS AS LIST OF VALUES INTO THE DICTIONARY\n",
    "\n",
    "for i in range(len(ordered_keys)):\n",
    "    finaldict[ordered_keys[i]]=ordered_values[i]"
   ]
  },
  {
   "cell_type": "code",
   "execution_count": 19,
   "metadata": {},
   "outputs": [],
   "source": [
    "#WRITING THE FINAL DICTIONARY INTO JSON FILE\n",
    "\n",
    "with open('neighbor-districts-modified.json', 'w') as json_file:\n",
    "  json.dump(finaldict, json_file)"
   ]
  },
  {
   "cell_type": "code",
   "execution_count": 99,
   "metadata": {},
   "outputs": [],
   "source": []
  },
  {
   "cell_type": "code",
   "execution_count": null,
   "metadata": {},
   "outputs": [],
   "source": []
  }
 ],
 "metadata": {
  "kernelspec": {
   "display_name": "Python 3",
   "language": "python",
   "name": "python3"
  },
  "language_info": {
   "codemirror_mode": {
    "name": "ipython",
    "version": 3
   },
   "file_extension": ".py",
   "mimetype": "text/x-python",
   "name": "python",
   "nbconvert_exporter": "python",
   "pygments_lexer": "ipython3",
   "version": "3.8.5"
  }
 },
 "nbformat": 4,
 "nbformat_minor": 4
}
